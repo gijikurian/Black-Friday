{
 "cells": [
  {
   "cell_type": "markdown",
   "metadata": {},
   "source": [
    "# Data set \n",
    "    \n",
    "      Data is taken from the Kaggle to study the customer behavior in Black Friday at a retail store"
   ]
  },
  {
   "cell_type": "markdown",
   "metadata": {},
   "source": [
    "# Importing all neccessary library files\n"
   ]
  },
  {
   "cell_type": "code",
   "execution_count": 1,
   "metadata": {},
   "outputs": [],
   "source": [
    "import pandas as pd\n",
    "import numpy as np # linear algebra\n",
    "\n",
    "import seaborn as sns\n",
    "import matplotlib as mlp\n",
    "%matplotlib inline\n",
    "import matplotlib.pyplot as plt\n",
    "\n",
    "\n"
   ]
  },
  {
   "cell_type": "markdown",
   "metadata": {},
   "source": [
    "### Reading csv file"
   ]
  },
  {
   "cell_type": "code",
   "execution_count": 2,
   "metadata": {},
   "outputs": [],
   "source": [
    "df=pd.read_csv('BlackFriday.csv')"
   ]
  },
  {
   "cell_type": "markdown",
   "metadata": {},
   "source": [
    "### Analysing Data"
   ]
  },
  {
   "cell_type": "code",
   "execution_count": 3,
   "metadata": {},
   "outputs": [
    {
     "data": {
      "text/html": [
       "<div>\n",
       "<style scoped>\n",
       "    .dataframe tbody tr th:only-of-type {\n",
       "        vertical-align: middle;\n",
       "    }\n",
       "\n",
       "    .dataframe tbody tr th {\n",
       "        vertical-align: top;\n",
       "    }\n",
       "\n",
       "    .dataframe thead th {\n",
       "        text-align: right;\n",
       "    }\n",
       "</style>\n",
       "<table border=\"1\" class=\"dataframe\">\n",
       "  <thead>\n",
       "    <tr style=\"text-align: right;\">\n",
       "      <th></th>\n",
       "      <th>User_ID</th>\n",
       "      <th>Product_ID</th>\n",
       "      <th>Gender</th>\n",
       "      <th>Age</th>\n",
       "      <th>Occupation</th>\n",
       "      <th>City_Category</th>\n",
       "      <th>Stay_In_Current_City_Years</th>\n",
       "      <th>Marital_Status</th>\n",
       "      <th>Product_Category_1</th>\n",
       "      <th>Product_Category_2</th>\n",
       "      <th>Product_Category_3</th>\n",
       "      <th>Purchase</th>\n",
       "    </tr>\n",
       "  </thead>\n",
       "  <tbody>\n",
       "    <tr>\n",
       "      <th>0</th>\n",
       "      <td>1000001</td>\n",
       "      <td>P00069042</td>\n",
       "      <td>F</td>\n",
       "      <td>0-17</td>\n",
       "      <td>10</td>\n",
       "      <td>A</td>\n",
       "      <td>2</td>\n",
       "      <td>0</td>\n",
       "      <td>3</td>\n",
       "      <td>NaN</td>\n",
       "      <td>NaN</td>\n",
       "      <td>8370</td>\n",
       "    </tr>\n",
       "    <tr>\n",
       "      <th>1</th>\n",
       "      <td>1000001</td>\n",
       "      <td>P00248942</td>\n",
       "      <td>F</td>\n",
       "      <td>0-17</td>\n",
       "      <td>10</td>\n",
       "      <td>A</td>\n",
       "      <td>2</td>\n",
       "      <td>0</td>\n",
       "      <td>1</td>\n",
       "      <td>6.0</td>\n",
       "      <td>14.0</td>\n",
       "      <td>15200</td>\n",
       "    </tr>\n",
       "    <tr>\n",
       "      <th>2</th>\n",
       "      <td>1000001</td>\n",
       "      <td>P00087842</td>\n",
       "      <td>F</td>\n",
       "      <td>0-17</td>\n",
       "      <td>10</td>\n",
       "      <td>A</td>\n",
       "      <td>2</td>\n",
       "      <td>0</td>\n",
       "      <td>12</td>\n",
       "      <td>NaN</td>\n",
       "      <td>NaN</td>\n",
       "      <td>1422</td>\n",
       "    </tr>\n",
       "    <tr>\n",
       "      <th>3</th>\n",
       "      <td>1000001</td>\n",
       "      <td>P00085442</td>\n",
       "      <td>F</td>\n",
       "      <td>0-17</td>\n",
       "      <td>10</td>\n",
       "      <td>A</td>\n",
       "      <td>2</td>\n",
       "      <td>0</td>\n",
       "      <td>12</td>\n",
       "      <td>14.0</td>\n",
       "      <td>NaN</td>\n",
       "      <td>1057</td>\n",
       "    </tr>\n",
       "    <tr>\n",
       "      <th>4</th>\n",
       "      <td>1000002</td>\n",
       "      <td>P00285442</td>\n",
       "      <td>M</td>\n",
       "      <td>55+</td>\n",
       "      <td>16</td>\n",
       "      <td>C</td>\n",
       "      <td>4+</td>\n",
       "      <td>0</td>\n",
       "      <td>8</td>\n",
       "      <td>NaN</td>\n",
       "      <td>NaN</td>\n",
       "      <td>7969</td>\n",
       "    </tr>\n",
       "  </tbody>\n",
       "</table>\n",
       "</div>"
      ],
      "text/plain": [
       "   User_ID Product_ID Gender   Age  Occupation City_Category  \\\n",
       "0  1000001  P00069042      F  0-17          10             A   \n",
       "1  1000001  P00248942      F  0-17          10             A   \n",
       "2  1000001  P00087842      F  0-17          10             A   \n",
       "3  1000001  P00085442      F  0-17          10             A   \n",
       "4  1000002  P00285442      M   55+          16             C   \n",
       "\n",
       "  Stay_In_Current_City_Years  Marital_Status  Product_Category_1  \\\n",
       "0                          2               0                   3   \n",
       "1                          2               0                   1   \n",
       "2                          2               0                  12   \n",
       "3                          2               0                  12   \n",
       "4                         4+               0                   8   \n",
       "\n",
       "   Product_Category_2  Product_Category_3  Purchase  \n",
       "0                 NaN                 NaN      8370  \n",
       "1                 6.0                14.0     15200  \n",
       "2                 NaN                 NaN      1422  \n",
       "3                14.0                 NaN      1057  \n",
       "4                 NaN                 NaN      7969  "
      ]
     },
     "execution_count": 3,
     "metadata": {},
     "output_type": "execute_result"
    }
   ],
   "source": [
    "df.head()"
   ]
  },
  {
   "cell_type": "code",
   "execution_count": 4,
   "metadata": {},
   "outputs": [
    {
     "data": {
      "text/plain": [
       "(537577, 12)"
      ]
     },
     "execution_count": 4,
     "metadata": {},
     "output_type": "execute_result"
    }
   ],
   "source": [
    "df.shape"
   ]
  },
  {
   "cell_type": "code",
   "execution_count": 5,
   "metadata": {},
   "outputs": [
    {
     "data": {
      "text/plain": [
       "User_ID                            0\n",
       "Product_ID                         0\n",
       "Gender                             0\n",
       "Age                                0\n",
       "Occupation                         0\n",
       "City_Category                      0\n",
       "Stay_In_Current_City_Years         0\n",
       "Marital_Status                     0\n",
       "Product_Category_1                 0\n",
       "Product_Category_2            166986\n",
       "Product_Category_3            373299\n",
       "Purchase                           0\n",
       "dtype: int64"
      ]
     },
     "execution_count": 5,
     "metadata": {},
     "output_type": "execute_result"
    }
   ],
   "source": [
    "df.isnull().sum()"
   ]
  },
  {
   "cell_type": "code",
   "execution_count": 6,
   "metadata": {},
   "outputs": [
    {
     "data": {
      "text/plain": [
       "array([ 3,  1, 12,  8,  5,  4,  2,  6, 14, 11, 13, 15,  7, 16, 18, 10, 17,\n",
       "        9])"
      ]
     },
     "execution_count": 6,
     "metadata": {},
     "output_type": "execute_result"
    }
   ],
   "source": [
    "df.Product_Category_1.unique()"
   ]
  },
  {
   "cell_type": "code",
   "execution_count": 7,
   "metadata": {},
   "outputs": [
    {
     "data": {
      "text/plain": [
       "array([nan,  6., 14.,  2.,  8., 15., 16., 11.,  5.,  3.,  4., 12.,  9.,\n",
       "       10., 17., 13.,  7., 18.])"
      ]
     },
     "execution_count": 7,
     "metadata": {},
     "output_type": "execute_result"
    }
   ],
   "source": [
    "df.Product_Category_2.unique()"
   ]
  },
  {
   "cell_type": "code",
   "execution_count": 8,
   "metadata": {},
   "outputs": [
    {
     "data": {
      "text/plain": [
       "array([nan, 14., 17.,  5.,  4., 16., 15.,  8.,  9., 13.,  6., 12.,  3.,\n",
       "       18., 11., 10.])"
      ]
     },
     "execution_count": 8,
     "metadata": {},
     "output_type": "execute_result"
    }
   ],
   "source": [
    "df.Product_Category_3.unique()"
   ]
  },
  {
   "cell_type": "markdown",
   "metadata": {},
   "source": [
    "### Filling the missing values.\n",
    "    We only have missing values in Product_Category_1 and Product_Category_2 columns. If we drop the rows it loose the other data. If we look at the columns, the value says number of products under category 2 and category 3 are ordered by particular user. So missing values can be consider as zero items ordered."
   ]
  },
  {
   "cell_type": "code",
   "execution_count": 9,
   "metadata": {},
   "outputs": [],
   "source": [
    "df.fillna(value=0,inplace=True)"
   ]
  },
  {
   "cell_type": "code",
   "execution_count": 10,
   "metadata": {},
   "outputs": [
    {
     "data": {
      "text/plain": [
       "User_ID                       0\n",
       "Product_ID                    0\n",
       "Gender                        0\n",
       "Age                           0\n",
       "Occupation                    0\n",
       "City_Category                 0\n",
       "Stay_In_Current_City_Years    0\n",
       "Marital_Status                0\n",
       "Product_Category_1            0\n",
       "Product_Category_2            0\n",
       "Product_Category_3            0\n",
       "Purchase                      0\n",
       "dtype: int64"
      ]
     },
     "execution_count": 10,
     "metadata": {},
     "output_type": "execute_result"
    }
   ],
   "source": [
    "df.isnull().sum()"
   ]
  },
  {
   "cell_type": "code",
   "execution_count": 11,
   "metadata": {},
   "outputs": [
    {
     "data": {
      "text/plain": [
       "array(['0-17', '55+', '26-35', '46-50', '51-55', '36-45', '18-25'],\n",
       "      dtype=object)"
      ]
     },
     "execution_count": 11,
     "metadata": {},
     "output_type": "execute_result"
    }
   ],
   "source": [
    "df.Age.unique()"
   ]
  },
  {
   "cell_type": "code",
   "execution_count": 12,
   "metadata": {},
   "outputs": [
    {
     "data": {
      "text/plain": [
       "Index(['User_ID', 'Product_ID', 'Gender', 'Age', 'Occupation', 'City_Category',\n",
       "       'Stay_In_Current_City_Years', 'Marital_Status', 'Product_Category_1',\n",
       "       'Product_Category_2', 'Product_Category_3', 'Purchase'],\n",
       "      dtype='object')"
      ]
     },
     "execution_count": 12,
     "metadata": {},
     "output_type": "execute_result"
    }
   ],
   "source": [
    "df.columns"
   ]
  },
  {
   "cell_type": "code",
   "execution_count": 13,
   "metadata": {},
   "outputs": [
    {
     "data": {
      "text/plain": [
       "User_ID                         int64\n",
       "Product_ID                     object\n",
       "Gender                         object\n",
       "Age                            object\n",
       "Occupation                      int64\n",
       "City_Category                  object\n",
       "Stay_In_Current_City_Years     object\n",
       "Marital_Status                  int64\n",
       "Product_Category_1              int64\n",
       "Product_Category_2            float64\n",
       "Product_Category_3            float64\n",
       "Purchase                        int64\n",
       "dtype: object"
      ]
     },
     "execution_count": 13,
     "metadata": {},
     "output_type": "execute_result"
    }
   ],
   "source": [
    "df.dtypes"
   ]
  },
  {
   "cell_type": "code",
   "execution_count": 14,
   "metadata": {},
   "outputs": [],
   "source": [
    "df['Product_Category_2']=df['Product_Category_2'].astype(int)"
   ]
  },
  {
   "cell_type": "code",
   "execution_count": 15,
   "metadata": {},
   "outputs": [],
   "source": [
    "df['Product_Category_3']=df['Product_Category_3'].astype(int)"
   ]
  },
  {
   "cell_type": "code",
   "execution_count": 16,
   "metadata": {},
   "outputs": [
    {
     "data": {
      "text/plain": [
       "User_ID                        int64\n",
       "Product_ID                    object\n",
       "Gender                        object\n",
       "Age                           object\n",
       "Occupation                     int64\n",
       "City_Category                 object\n",
       "Stay_In_Current_City_Years    object\n",
       "Marital_Status                 int64\n",
       "Product_Category_1             int64\n",
       "Product_Category_2             int64\n",
       "Product_Category_3             int64\n",
       "Purchase                       int64\n",
       "dtype: object"
      ]
     },
     "execution_count": 16,
     "metadata": {},
     "output_type": "execute_result"
    }
   ],
   "source": [
    "df.dtypes"
   ]
  },
  {
   "cell_type": "markdown",
   "metadata": {},
   "source": [
    "### Analyzing data\n",
    "    "
   ]
  },
  {
   "cell_type": "markdown",
   "metadata": {},
   "source": [
    "##### Who is more likely to spend more in a black Friday sale (in Gender)? "
   ]
  },
  {
   "cell_type": "code",
   "execution_count": 17,
   "metadata": {
    "scrolled": true
   },
   "outputs": [
    {
     "data": {
      "text/plain": [
       "<matplotlib.axes._subplots.AxesSubplot at 0x7f549ca39cc0>"
      ]
     },
     "execution_count": 17,
     "metadata": {},
     "output_type": "execute_result"
    },
    {
     "data": {
      "image/png": "[encoded data removed]",
      "text/plain": [
       "<Figure size 432x288 with 1 Axes>"
      ]
     },
     "metadata": {},
     "output_type": "display_data"
    }
   ],
   "source": [
    "sns.countplot(df['Gender'])"
   ]
  },
  {
   "cell_type": "markdown",
   "metadata": {},
   "source": [
    "##### From the above we can conclude that Males are the most likely to spend on Black Friday Sale"
   ]
  },
  {
   "cell_type": "markdown",
   "metadata": {},
   "source": [
    "##### Which age groups are commonly looking for purchase items in a black Friday sale? "
   ]
  },
  {
   "cell_type": "code",
   "execution_count": 18,
   "metadata": {},
   "outputs": [
    {
     "data": {
      "text/plain": [
       "<matplotlib.axes._subplots.AxesSubplot at 0x7f549c9578d0>"
      ]
     },
     "execution_count": 18,
     "metadata": {},
     "output_type": "execute_result"
    },
    {
     "data": {
      "image/png": "[encoded data removed]",
      "text/plain": [
       "<Figure size 432x288 with 1 Axes>"
      ]
     },
     "metadata": {},
     "output_type": "display_data"
    }
   ],
   "source": [
    "sns.countplot(df['Age'])"
   ]
  },
  {
   "cell_type": "markdown",
   "metadata": {},
   "source": [
    "##### From the above we can say that Age group between 26 to 35 are most who spend their money on Black Friday"
   ]
  },
  {
   "cell_type": "markdown",
   "metadata": {},
   "source": [
    "##### Under the Age group of 26-35  who is most likey to spend Men or Women ?"
   ]
  },
  {
   "cell_type": "code",
   "execution_count": 19,
   "metadata": {},
   "outputs": [
    {
     "data": {
      "text/plain": [
       "<matplotlib.axes._subplots.AxesSubplot at 0x7f549c8d4048>"
      ]
     },
     "execution_count": 19,
     "metadata": {},
     "output_type": "execute_result"
    },
    {
     "data": {
      "image/png": "[encoded data removed]",
      "text/plain": [
       "<Figure size 432x288 with 1 Axes>"
      ]
     },
     "metadata": {},
     "output_type": "display_data"
    }
   ],
   "source": [
    "sns.countplot(df['Age'],hue=df['Gender'])"
   ]
  },
  {
   "cell_type": "markdown",
   "metadata": {},
   "source": [
    "##### From the above we can conclude that Males are the most likely to spend on Black Friday Sale"
   ]
  },
  {
   "cell_type": "markdown",
   "metadata": {},
   "source": [
    "##### Are they new to the City or not ?"
   ]
  },
  {
   "cell_type": "code",
   "execution_count": 20,
   "metadata": {
    "scrolled": false
   },
   "outputs": [
    {
     "data": {
      "text/plain": [
       "<matplotlib.axes._subplots.AxesSubplot at 0x7f549c855400>"
      ]
     },
     "execution_count": 20,
     "metadata": {},
     "output_type": "execute_result"
    },
    {
     "data": {
      "image/png": "[encoded data removed]",
      "text/plain": [
       "<Figure size 432x288 with 1 Axes>"
      ]
     },
     "metadata": {},
     "output_type": "display_data"
    }
   ],
   "source": [
    "sns.countplot(df['Stay_In_Current_City_Years'])"
   ]
  },
  {
   "cell_type": "markdown",
   "metadata": {},
   "source": [
    "#### Base on the data most of them are new to the city, but we can see that others are also spending money almost 50% of new commers."
   ]
  },
  {
   "cell_type": "code",
   "execution_count": 21,
   "metadata": {},
   "outputs": [
    {
     "data": {
      "text/plain": [
       "<matplotlib.axes._subplots.AxesSubplot at 0x7f549c81f630>"
      ]
     },
     "execution_count": 21,
     "metadata": {},
     "output_type": "execute_result"
    },
    {
     "data": {
      "image/png": "[encoded data removed]",
      "text/plain": [
       "<Figure size 432x288 with 1 Axes>"
      ]
     },
     "metadata": {},
     "output_type": "display_data"
    }
   ],
   "source": [
    "sns.countplot(df['Product_Category_1'],hue=df['Gender'])"
   ]
  },
  {
   "cell_type": "code",
   "execution_count": 22,
   "metadata": {},
   "outputs": [
    {
     "data": {
      "text/plain": [
       "<matplotlib.axes._subplots.AxesSubplot at 0x7f549c83d5f8>"
      ]
     },
     "execution_count": 22,
     "metadata": {},
     "output_type": "execute_result"
    },
    {
     "data": {
      "image/png": "[encoded data removed]",
      "text/plain": [
       "<Figure size 432x288 with 1 Axes>"
      ]
     },
     "metadata": {},
     "output_type": "display_data"
    }
   ],
   "source": [
    "sns.countplot(df['Product_Category_2'],hue=df['Gender'])"
   ]
  },
  {
   "cell_type": "code",
   "execution_count": 23,
   "metadata": {},
   "outputs": [
    {
     "data": {
      "text/plain": [
       "<matplotlib.axes._subplots.AxesSubplot at 0x7f549c773e48>"
      ]
     },
     "execution_count": 23,
     "metadata": {},
     "output_type": "execute_result"
    },
    {
     "data": {
      "image/png": "[encoded data removed]",
      "text/plain": [
       "<Figure size 432x288 with 1 Axes>"
      ]
     },
     "metadata": {},
     "output_type": "display_data"
    }
   ],
   "source": [
    "sns.countplot(df['Product_Category_3'],hue=df['Gender'])"
   ]
  },
  {
   "cell_type": "markdown",
   "metadata": {},
   "source": [
    "### Getting correlation"
   ]
  },
  {
   "cell_type": "code",
   "execution_count": 24,
   "metadata": {},
   "outputs": [
    {
     "data": {
      "text/html": [
       "<div>\n",
       "<style scoped>\n",
       "    .dataframe tbody tr th:only-of-type {\n",
       "        vertical-align: middle;\n",
       "    }\n",
       "\n",
       "    .dataframe tbody tr th {\n",
       "        vertical-align: top;\n",
       "    }\n",
       "\n",
       "    .dataframe thead th {\n",
       "        text-align: right;\n",
       "    }\n",
       "</style>\n",
       "<table border=\"1\" class=\"dataframe\">\n",
       "  <thead>\n",
       "    <tr style=\"text-align: right;\">\n",
       "      <th></th>\n",
       "      <th>User_ID</th>\n",
       "      <th>Occupation</th>\n",
       "      <th>Marital_Status</th>\n",
       "      <th>Product_Category_1</th>\n",
       "      <th>Product_Category_2</th>\n",
       "      <th>Product_Category_3</th>\n",
       "      <th>Purchase</th>\n",
       "    </tr>\n",
       "  </thead>\n",
       "  <tbody>\n",
       "    <tr>\n",
       "      <th>User_ID</th>\n",
       "      <td>1.000000</td>\n",
       "      <td>-0.023024</td>\n",
       "      <td>0.018732</td>\n",
       "      <td>0.003687</td>\n",
       "      <td>0.003663</td>\n",
       "      <td>0.003938</td>\n",
       "      <td>0.005389</td>\n",
       "    </tr>\n",
       "    <tr>\n",
       "      <th>Occupation</th>\n",
       "      <td>-0.023024</td>\n",
       "      <td>1.000000</td>\n",
       "      <td>0.024691</td>\n",
       "      <td>-0.008114</td>\n",
       "      <td>0.006792</td>\n",
       "      <td>0.011941</td>\n",
       "      <td>0.021104</td>\n",
       "    </tr>\n",
       "    <tr>\n",
       "      <th>Marital_Status</th>\n",
       "      <td>0.018732</td>\n",
       "      <td>0.024691</td>\n",
       "      <td>1.000000</td>\n",
       "      <td>0.020546</td>\n",
       "      <td>0.001146</td>\n",
       "      <td>-0.004363</td>\n",
       "      <td>0.000129</td>\n",
       "    </tr>\n",
       "    <tr>\n",
       "      <th>Product_Category_1</th>\n",
       "      <td>0.003687</td>\n",
       "      <td>-0.008114</td>\n",
       "      <td>0.020546</td>\n",
       "      <td>1.000000</td>\n",
       "      <td>-0.040730</td>\n",
       "      <td>-0.389048</td>\n",
       "      <td>-0.314125</td>\n",
       "    </tr>\n",
       "    <tr>\n",
       "      <th>Product_Category_2</th>\n",
       "      <td>0.003663</td>\n",
       "      <td>0.006792</td>\n",
       "      <td>0.001146</td>\n",
       "      <td>-0.040730</td>\n",
       "      <td>1.000000</td>\n",
       "      <td>0.090284</td>\n",
       "      <td>0.038395</td>\n",
       "    </tr>\n",
       "    <tr>\n",
       "      <th>Product_Category_3</th>\n",
       "      <td>0.003938</td>\n",
       "      <td>0.011941</td>\n",
       "      <td>-0.004363</td>\n",
       "      <td>-0.389048</td>\n",
       "      <td>0.090284</td>\n",
       "      <td>1.000000</td>\n",
       "      <td>0.284120</td>\n",
       "    </tr>\n",
       "    <tr>\n",
       "      <th>Purchase</th>\n",
       "      <td>0.005389</td>\n",
       "      <td>0.021104</td>\n",
       "      <td>0.000129</td>\n",
       "      <td>-0.314125</td>\n",
       "      <td>0.038395</td>\n",
       "      <td>0.284120</td>\n",
       "      <td>1.000000</td>\n",
       "    </tr>\n",
       "  </tbody>\n",
       "</table>\n",
       "</div>"
      ],
      "text/plain": [
       "                     User_ID  Occupation  Marital_Status  Product_Category_1  \\\n",
       "User_ID             1.000000   -0.023024        0.018732            0.003687   \n",
       "Occupation         -0.023024    1.000000        0.024691           -0.008114   \n",
       "Marital_Status      0.018732    0.024691        1.000000            0.020546   \n",
       "Product_Category_1  0.003687   -0.008114        0.020546            1.000000   \n",
       "Product_Category_2  0.003663    0.006792        0.001146           -0.040730   \n",
       "Product_Category_3  0.003938    0.011941       -0.004363           -0.389048   \n",
       "Purchase            0.005389    0.021104        0.000129           -0.314125   \n",
       "\n",
       "                    Product_Category_2  Product_Category_3  Purchase  \n",
       "User_ID                       0.003663            0.003938  0.005389  \n",
       "Occupation                    0.006792            0.011941  0.021104  \n",
       "Marital_Status                0.001146           -0.004363  0.000129  \n",
       "Product_Category_1           -0.040730           -0.389048 -0.314125  \n",
       "Product_Category_2            1.000000            0.090284  0.038395  \n",
       "Product_Category_3            0.090284            1.000000  0.284120  \n",
       "Purchase                      0.038395            0.284120  1.000000  "
      ]
     },
     "execution_count": 24,
     "metadata": {},
     "output_type": "execute_result"
    }
   ],
   "source": [
    "corr_matrix = df.corr()\n",
    "\n",
    "corr_matrix"
   ]
  },
  {
   "cell_type": "code",
   "execution_count": 26,
   "metadata": {},
   "outputs": [
    {
     "data": {
      "text/plain": [
       "Purchase              1.000000\n",
       "Product_Category_3    0.284120\n",
       "Product_Category_2    0.038395\n",
       "Occupation            0.021104\n",
       "User_ID               0.005389\n",
       "Marital_Status        0.000129\n",
       "Product_Category_1   -0.314125\n",
       "Name: Purchase, dtype: float64"
      ]
     },
     "execution_count": 26,
     "metadata": {},
     "output_type": "execute_result"
    }
   ],
   "source": [
    "corr_matrix['Purchase'].sort_values(ascending=False)"
   ]
  },
  {
   "cell_type": "code",
   "execution_count": 27,
   "metadata": {},
   "outputs": [
    {
     "data": {
      "image/png": "[encoded data removed]",
      "text/plain": [
       "<Figure size 1440x1080 with 9 Axes>"
      ]
     },
     "metadata": {},
     "output_type": "display_data"
    }
   ],
   "source": [
    "\n",
    "df.hist(bins=50, figsize=(20,15))\n",
    "plt.show()"
   ]
  },
  {
   "cell_type": "code",
   "execution_count": 28,
   "metadata": {},
   "outputs": [],
   "source": [
    "df['Combined_G_M']=df['Gender'] + \"_\" + df['Marital_Status'].astype(str)"
   ]
  },
  {
   "cell_type": "code",
   "execution_count": 29,
   "metadata": {},
   "outputs": [
    {
     "data": {
      "text/plain": [
       "<matplotlib.axes._subplots.AxesSubplot at 0x7f549bcc5588>"
      ]
     },
     "execution_count": 29,
     "metadata": {},
     "output_type": "execute_result"
    },
    {
     "data": {
      "image/png": "[encoded data removed]",
      "text/plain": [
       "<Figure size 432x288 with 1 Axes>"
      ]
     },
     "metadata": {},
     "output_type": "display_data"
    }
   ],
   "source": [
    "sns.countplot(df['Age'],hue=df['Combined_G_M'])"
   ]
  },
  {
   "cell_type": "code",
   "execution_count": 30,
   "metadata": {},
   "outputs": [],
   "source": [
    "df.drop(columns=['User_ID','Product_ID'],inplace=True)"
   ]
  },
  {
   "cell_type": "code",
   "execution_count": 31,
   "metadata": {},
   "outputs": [],
   "source": [
    "df=pd.get_dummies(df)"
   ]
  },
  {
   "cell_type": "markdown",
   "metadata": {},
   "source": [
    "### Splitting Data into Test and Train \n",
    "### 20% data for Test and 80% data for Train"
   ]
  },
  {
   "cell_type": "code",
   "execution_count": 32,
   "metadata": {},
   "outputs": [],
   "source": [
    "\n",
    "from sklearn.model_selection import train_test_split\n",
    "\n",
    "train_set, test_set = train_test_split(df, test_size=0.2, random_state=42)"
   ]
  },
  {
   "cell_type": "code",
   "execution_count": 33,
   "metadata": {},
   "outputs": [
    {
     "data": {
      "text/html": [
       "<div>\n",
       "<style scoped>\n",
       "    .dataframe tbody tr th:only-of-type {\n",
       "        vertical-align: middle;\n",
       "    }\n",
       "\n",
       "    .dataframe tbody tr th {\n",
       "        vertical-align: top;\n",
       "    }\n",
       "\n",
       "    .dataframe thead th {\n",
       "        text-align: right;\n",
       "    }\n",
       "</style>\n",
       "<table border=\"1\" class=\"dataframe\">\n",
       "  <thead>\n",
       "    <tr style=\"text-align: right;\">\n",
       "      <th></th>\n",
       "      <th>Occupation</th>\n",
       "      <th>Marital_Status</th>\n",
       "      <th>Product_Category_1</th>\n",
       "      <th>Product_Category_2</th>\n",
       "      <th>Product_Category_3</th>\n",
       "      <th>Purchase</th>\n",
       "      <th>Gender_F</th>\n",
       "      <th>Gender_M</th>\n",
       "      <th>Age_0-17</th>\n",
       "      <th>Age_18-25</th>\n",
       "      <th>...</th>\n",
       "      <th>City_Category_C</th>\n",
       "      <th>Stay_In_Current_City_Years_0</th>\n",
       "      <th>Stay_In_Current_City_Years_1</th>\n",
       "      <th>Stay_In_Current_City_Years_2</th>\n",
       "      <th>Stay_In_Current_City_Years_3</th>\n",
       "      <th>Stay_In_Current_City_Years_4+</th>\n",
       "      <th>Combined_G_M_F_0</th>\n",
       "      <th>Combined_G_M_F_1</th>\n",
       "      <th>Combined_G_M_M_0</th>\n",
       "      <th>Combined_G_M_M_1</th>\n",
       "    </tr>\n",
       "  </thead>\n",
       "  <tbody>\n",
       "    <tr>\n",
       "      <th>287383</th>\n",
       "      <td>17</td>\n",
       "      <td>0</td>\n",
       "      <td>1</td>\n",
       "      <td>2</td>\n",
       "      <td>15</td>\n",
       "      <td>8058</td>\n",
       "      <td>0</td>\n",
       "      <td>1</td>\n",
       "      <td>0</td>\n",
       "      <td>0</td>\n",
       "      <td>...</td>\n",
       "      <td>1</td>\n",
       "      <td>0</td>\n",
       "      <td>0</td>\n",
       "      <td>0</td>\n",
       "      <td>1</td>\n",
       "      <td>0</td>\n",
       "      <td>0</td>\n",
       "      <td>0</td>\n",
       "      <td>1</td>\n",
       "      <td>0</td>\n",
       "    </tr>\n",
       "    <tr>\n",
       "      <th>130087</th>\n",
       "      <td>14</td>\n",
       "      <td>0</td>\n",
       "      <td>1</td>\n",
       "      <td>16</td>\n",
       "      <td>0</td>\n",
       "      <td>19297</td>\n",
       "      <td>0</td>\n",
       "      <td>1</td>\n",
       "      <td>0</td>\n",
       "      <td>0</td>\n",
       "      <td>...</td>\n",
       "      <td>0</td>\n",
       "      <td>0</td>\n",
       "      <td>0</td>\n",
       "      <td>0</td>\n",
       "      <td>1</td>\n",
       "      <td>0</td>\n",
       "      <td>0</td>\n",
       "      <td>0</td>\n",
       "      <td>1</td>\n",
       "      <td>0</td>\n",
       "    </tr>\n",
       "    <tr>\n",
       "      <th>104368</th>\n",
       "      <td>0</td>\n",
       "      <td>1</td>\n",
       "      <td>8</td>\n",
       "      <td>0</td>\n",
       "      <td>0</td>\n",
       "      <td>6121</td>\n",
       "      <td>0</td>\n",
       "      <td>1</td>\n",
       "      <td>0</td>\n",
       "      <td>0</td>\n",
       "      <td>...</td>\n",
       "      <td>0</td>\n",
       "      <td>0</td>\n",
       "      <td>1</td>\n",
       "      <td>0</td>\n",
       "      <td>0</td>\n",
       "      <td>0</td>\n",
       "      <td>0</td>\n",
       "      <td>0</td>\n",
       "      <td>0</td>\n",
       "      <td>1</td>\n",
       "    </tr>\n",
       "    <tr>\n",
       "      <th>370791</th>\n",
       "      <td>4</td>\n",
       "      <td>0</td>\n",
       "      <td>8</td>\n",
       "      <td>16</td>\n",
       "      <td>0</td>\n",
       "      <td>8130</td>\n",
       "      <td>1</td>\n",
       "      <td>0</td>\n",
       "      <td>0</td>\n",
       "      <td>0</td>\n",
       "      <td>...</td>\n",
       "      <td>1</td>\n",
       "      <td>0</td>\n",
       "      <td>1</td>\n",
       "      <td>0</td>\n",
       "      <td>0</td>\n",
       "      <td>0</td>\n",
       "      <td>1</td>\n",
       "      <td>0</td>\n",
       "      <td>0</td>\n",
       "      <td>0</td>\n",
       "    </tr>\n",
       "    <tr>\n",
       "      <th>121991</th>\n",
       "      <td>0</td>\n",
       "      <td>0</td>\n",
       "      <td>5</td>\n",
       "      <td>14</td>\n",
       "      <td>0</td>\n",
       "      <td>8676</td>\n",
       "      <td>1</td>\n",
       "      <td>0</td>\n",
       "      <td>0</td>\n",
       "      <td>0</td>\n",
       "      <td>...</td>\n",
       "      <td>0</td>\n",
       "      <td>0</td>\n",
       "      <td>0</td>\n",
       "      <td>0</td>\n",
       "      <td>1</td>\n",
       "      <td>0</td>\n",
       "      <td>1</td>\n",
       "      <td>0</td>\n",
       "      <td>0</td>\n",
       "      <td>0</td>\n",
       "    </tr>\n",
       "  </tbody>\n",
       "</table>\n",
       "<p>5 rows × 27 columns</p>\n",
       "</div>"
      ],
      "text/plain": [
       "        Occupation  Marital_Status  Product_Category_1  Product_Category_2  \\\n",
       "287383          17               0                   1                   2   \n",
       "130087          14               0                   1                  16   \n",
       "104368           0               1                   8                   0   \n",
       "370791           4               0                   8                  16   \n",
       "121991           0               0                   5                  14   \n",
       "\n",
       "        Product_Category_3  Purchase  Gender_F  Gender_M  Age_0-17  Age_18-25  \\\n",
       "287383                  15      8058         0         1         0          0   \n",
       "130087                   0     19297         0         1         0          0   \n",
       "104368                   0      6121         0         1         0          0   \n",
       "370791                   0      8130         1         0         0          0   \n",
       "121991                   0      8676         1         0         0          0   \n",
       "\n",
       "              ...         City_Category_C  Stay_In_Current_City_Years_0  \\\n",
       "287383        ...                       1                             0   \n",
       "130087        ...                       0                             0   \n",
       "104368        ...                       0                             0   \n",
       "370791        ...                       1                             0   \n",
       "121991        ...                       0                             0   \n",
       "\n",
       "        Stay_In_Current_City_Years_1  Stay_In_Current_City_Years_2  \\\n",
       "287383                             0                             0   \n",
       "130087                             0                             0   \n",
       "104368                             1                             0   \n",
       "370791                             1                             0   \n",
       "121991                             0                             0   \n",
       "\n",
       "        Stay_In_Current_City_Years_3  Stay_In_Current_City_Years_4+  \\\n",
       "287383                             1                              0   \n",
       "130087                             1                              0   \n",
       "104368                             0                              0   \n",
       "370791                             0                              0   \n",
       "121991                             1                              0   \n",
       "\n",
       "        Combined_G_M_F_0  Combined_G_M_F_1  Combined_G_M_M_0  Combined_G_M_M_1  \n",
       "287383                 0                 0                 1                 0  \n",
       "130087                 0                 0                 1                 0  \n",
       "104368                 0                 0                 0                 1  \n",
       "370791                 1                 0                 0                 0  \n",
       "121991                 1                 0                 0                 0  \n",
       "\n",
       "[5 rows x 27 columns]"
      ]
     },
     "execution_count": 33,
     "metadata": {},
     "output_type": "execute_result"
    }
   ],
   "source": [
    "\n",
    "test_set.head()"
   ]
  },
  {
   "cell_type": "code",
   "execution_count": 34,
   "metadata": {},
   "outputs": [
    {
     "data": {
      "text/plain": [
       "(107516, 27)"
      ]
     },
     "execution_count": 34,
     "metadata": {},
     "output_type": "execute_result"
    }
   ],
   "source": [
    "test_set.shape"
   ]
  },
  {
   "cell_type": "code",
   "execution_count": 35,
   "metadata": {},
   "outputs": [
    {
     "data": {
      "text/plain": [
       "(430061, 27)"
      ]
     },
     "execution_count": 35,
     "metadata": {},
     "output_type": "execute_result"
    }
   ],
   "source": [
    "train_set.shape"
   ]
  },
  {
   "cell_type": "code",
   "execution_count": 36,
   "metadata": {},
   "outputs": [
    {
     "data": {
      "text/html": [
       "<div>\n",
       "<style scoped>\n",
       "    .dataframe tbody tr th:only-of-type {\n",
       "        vertical-align: middle;\n",
       "    }\n",
       "\n",
       "    .dataframe tbody tr th {\n",
       "        vertical-align: top;\n",
       "    }\n",
       "\n",
       "    .dataframe thead th {\n",
       "        text-align: right;\n",
       "    }\n",
       "</style>\n",
       "<table border=\"1\" class=\"dataframe\">\n",
       "  <thead>\n",
       "    <tr style=\"text-align: right;\">\n",
       "      <th></th>\n",
       "      <th>Occupation</th>\n",
       "      <th>Marital_Status</th>\n",
       "      <th>Product_Category_1</th>\n",
       "      <th>Product_Category_2</th>\n",
       "      <th>Product_Category_3</th>\n",
       "      <th>Purchase</th>\n",
       "      <th>Gender_F</th>\n",
       "      <th>Gender_M</th>\n",
       "      <th>Age_0-17</th>\n",
       "      <th>Age_18-25</th>\n",
       "      <th>...</th>\n",
       "      <th>City_Category_C</th>\n",
       "      <th>Stay_In_Current_City_Years_0</th>\n",
       "      <th>Stay_In_Current_City_Years_1</th>\n",
       "      <th>Stay_In_Current_City_Years_2</th>\n",
       "      <th>Stay_In_Current_City_Years_3</th>\n",
       "      <th>Stay_In_Current_City_Years_4+</th>\n",
       "      <th>Combined_G_M_F_0</th>\n",
       "      <th>Combined_G_M_F_1</th>\n",
       "      <th>Combined_G_M_M_0</th>\n",
       "      <th>Combined_G_M_M_1</th>\n",
       "    </tr>\n",
       "  </thead>\n",
       "  <tbody>\n",
       "    <tr>\n",
       "      <th>Occupation</th>\n",
       "      <td>1.000000</td>\n",
       "      <td>0.023696</td>\n",
       "      <td>-0.007505</td>\n",
       "      <td>0.007539</td>\n",
       "      <td>0.012332</td>\n",
       "      <td>0.020586</td>\n",
       "      <td>-0.116895</td>\n",
       "      <td>0.116895</td>\n",
       "      <td>0.018224</td>\n",
       "      <td>-0.096366</td>\n",
       "      <td>...</td>\n",
       "      <td>0.036051</td>\n",
       "      <td>-0.025431</td>\n",
       "      <td>-0.003359</td>\n",
       "      <td>-0.011808</td>\n",
       "      <td>0.024887</td>\n",
       "      <td>0.015096</td>\n",
       "      <td>-0.111906</td>\n",
       "      <td>-0.036738</td>\n",
       "      <td>0.055327</td>\n",
       "      <td>0.049455</td>\n",
       "    </tr>\n",
       "    <tr>\n",
       "      <th>Marital_Status</th>\n",
       "      <td>0.023696</td>\n",
       "      <td>1.000000</td>\n",
       "      <td>0.021649</td>\n",
       "      <td>0.000614</td>\n",
       "      <td>-0.006113</td>\n",
       "      <td>-0.000931</td>\n",
       "      <td>0.010277</td>\n",
       "      <td>-0.010277</td>\n",
       "      <td>-0.139471</td>\n",
       "      <td>-0.189389</td>\n",
       "      <td>...</td>\n",
       "      <td>0.033554</td>\n",
       "      <td>-0.010487</td>\n",
       "      <td>0.027492</td>\n",
       "      <td>-0.004765</td>\n",
       "      <td>-0.013056</td>\n",
       "      <td>-0.007596</td>\n",
       "      <td>-0.339851</td>\n",
       "      <td>0.406414</td>\n",
       "      <td>-0.749604</td>\n",
       "      <td>0.798868</td>\n",
       "    </tr>\n",
       "    <tr>\n",
       "      <th>Product_Category_1</th>\n",
       "      <td>-0.007505</td>\n",
       "      <td>0.021649</td>\n",
       "      <td>1.000000</td>\n",
       "      <td>-0.039945</td>\n",
       "      <td>-0.390545</td>\n",
       "      <td>-0.315476</td>\n",
       "      <td>0.045589</td>\n",
       "      <td>-0.045589</td>\n",
       "      <td>-0.017156</td>\n",
       "      <td>-0.037714</td>\n",
       "      <td>...</td>\n",
       "      <td>-0.022984</td>\n",
       "      <td>0.005473</td>\n",
       "      <td>0.005838</td>\n",
       "      <td>-0.008634</td>\n",
       "      <td>-0.009581</td>\n",
       "      <td>0.006421</td>\n",
       "      <td>0.026843</td>\n",
       "      <td>0.033698</td>\n",
       "      <td>-0.040298</td>\n",
       "      <td>0.000903</td>\n",
       "    </tr>\n",
       "    <tr>\n",
       "      <th>Product_Category_2</th>\n",
       "      <td>0.007539</td>\n",
       "      <td>0.000614</td>\n",
       "      <td>-0.039945</td>\n",
       "      <td>1.000000</td>\n",
       "      <td>0.088970</td>\n",
       "      <td>0.037932</td>\n",
       "      <td>0.001530</td>\n",
       "      <td>-0.001530</td>\n",
       "      <td>-0.010122</td>\n",
       "      <td>-0.011842</td>\n",
       "      <td>...</td>\n",
       "      <td>0.019952</td>\n",
       "      <td>-0.003074</td>\n",
       "      <td>0.001204</td>\n",
       "      <td>0.001660</td>\n",
       "      <td>-0.001821</td>\n",
       "      <td>0.001441</td>\n",
       "      <td>0.001215</td>\n",
       "      <td>0.000770</td>\n",
       "      <td>-0.001462</td>\n",
       "      <td>0.000148</td>\n",
       "    </tr>\n",
       "    <tr>\n",
       "      <th>Product_Category_3</th>\n",
       "      <td>0.012332</td>\n",
       "      <td>-0.006113</td>\n",
       "      <td>-0.390545</td>\n",
       "      <td>0.088970</td>\n",
       "      <td>1.000000</td>\n",
       "      <td>0.283730</td>\n",
       "      <td>-0.036786</td>\n",
       "      <td>0.036786</td>\n",
       "      <td>-0.000220</td>\n",
       "      <td>0.004560</td>\n",
       "      <td>...</td>\n",
       "      <td>0.034529</td>\n",
       "      <td>-0.002247</td>\n",
       "      <td>-0.003436</td>\n",
       "      <td>0.004611</td>\n",
       "      <td>0.002485</td>\n",
       "      <td>-0.000892</td>\n",
       "      <td>-0.024177</td>\n",
       "      <td>-0.024289</td>\n",
       "      <td>0.023060</td>\n",
       "      <td>0.009471</td>\n",
       "    </tr>\n",
       "    <tr>\n",
       "      <th>Purchase</th>\n",
       "      <td>0.020586</td>\n",
       "      <td>-0.000931</td>\n",
       "      <td>-0.315476</td>\n",
       "      <td>0.037932</td>\n",
       "      <td>0.283730</td>\n",
       "      <td>1.000000</td>\n",
       "      <td>-0.060218</td>\n",
       "      <td>0.060218</td>\n",
       "      <td>-0.010515</td>\n",
       "      <td>-0.008131</td>\n",
       "      <td>...</td>\n",
       "      <td>0.067854</td>\n",
       "      <td>-0.006885</td>\n",
       "      <td>-0.002177</td>\n",
       "      <td>0.005797</td>\n",
       "      <td>0.001139</td>\n",
       "      <td>0.001967</td>\n",
       "      <td>-0.047012</td>\n",
       "      <td>-0.031188</td>\n",
       "      <td>0.034006</td>\n",
       "      <td>0.019539</td>\n",
       "    </tr>\n",
       "    <tr>\n",
       "      <th>Gender_F</th>\n",
       "      <td>-0.116895</td>\n",
       "      <td>0.010277</td>\n",
       "      <td>0.045589</td>\n",
       "      <td>0.001530</td>\n",
       "      <td>-0.036786</td>\n",
       "      <td>-0.060218</td>\n",
       "      <td>1.000000</td>\n",
       "      <td>-1.000000</td>\n",
       "      <td>0.036275</td>\n",
       "      <td>-0.000499</td>\n",
       "      <td>...</td>\n",
       "      <td>-0.000911</td>\n",
       "      <td>-0.016572</td>\n",
       "      <td>0.031119</td>\n",
       "      <td>-0.008319</td>\n",
       "      <td>0.011780</td>\n",
       "      <td>-0.028819</td>\n",
       "      <td>0.715672</td>\n",
       "      <td>0.592894</td>\n",
       "      <td>-0.513835</td>\n",
       "      <td>-0.379358</td>\n",
       "    </tr>\n",
       "    <tr>\n",
       "      <th>Gender_M</th>\n",
       "      <td>0.116895</td>\n",
       "      <td>-0.010277</td>\n",
       "      <td>-0.045589</td>\n",
       "      <td>-0.001530</td>\n",
       "      <td>0.036786</td>\n",
       "      <td>0.060218</td>\n",
       "      <td>-1.000000</td>\n",
       "      <td>1.000000</td>\n",
       "      <td>-0.036275</td>\n",
       "      <td>0.000499</td>\n",
       "      <td>...</td>\n",
       "      <td>0.000911</td>\n",
       "      <td>0.016572</td>\n",
       "      <td>-0.031119</td>\n",
       "      <td>0.008319</td>\n",
       "      <td>-0.011780</td>\n",
       "      <td>0.028819</td>\n",
       "      <td>-0.715672</td>\n",
       "      <td>-0.592894</td>\n",
       "      <td>0.513835</td>\n",
       "      <td>0.379358</td>\n",
       "    </tr>\n",
       "    <tr>\n",
       "      <th>Age_0-17</th>\n",
       "      <td>0.018224</td>\n",
       "      <td>-0.139471</td>\n",
       "      <td>-0.017156</td>\n",
       "      <td>-0.010122</td>\n",
       "      <td>-0.000220</td>\n",
       "      <td>-0.010515</td>\n",
       "      <td>0.036275</td>\n",
       "      <td>-0.036275</td>\n",
       "      <td>1.000000</td>\n",
       "      <td>-0.078840</td>\n",
       "      <td>...</td>\n",
       "      <td>0.059826</td>\n",
       "      <td>0.007615</td>\n",
       "      <td>-0.008012</td>\n",
       "      <td>0.018706</td>\n",
       "      <td>0.003139</td>\n",
       "      <td>-0.019991</td>\n",
       "      <td>0.093778</td>\n",
       "      <td>-0.056683</td>\n",
       "      <td>0.071908</td>\n",
       "      <td>-0.111419</td>\n",
       "    </tr>\n",
       "    <tr>\n",
       "      <th>Age_18-25</th>\n",
       "      <td>-0.096366</td>\n",
       "      <td>-0.189389</td>\n",
       "      <td>-0.037714</td>\n",
       "      <td>-0.011842</td>\n",
       "      <td>0.004560</td>\n",
       "      <td>-0.008131</td>\n",
       "      <td>-0.000499</td>\n",
       "      <td>0.000499</td>\n",
       "      <td>-0.078840</td>\n",
       "      <td>1.000000</td>\n",
       "      <td>...</td>\n",
       "      <td>-0.022273</td>\n",
       "      <td>0.043563</td>\n",
       "      <td>-0.028843</td>\n",
       "      <td>0.009622</td>\n",
       "      <td>-0.022810</td>\n",
       "      <td>0.010450</td>\n",
       "      <td>0.052979</td>\n",
       "      <td>-0.061790</td>\n",
       "      <td>0.149980</td>\n",
       "      <td>-0.161290</td>\n",
       "    </tr>\n",
       "    <tr>\n",
       "      <th>Age_26-35</th>\n",
       "      <td>-0.023870</td>\n",
       "      <td>-0.027820</td>\n",
       "      <td>-0.017756</td>\n",
       "      <td>-0.003194</td>\n",
       "      <td>0.002484</td>\n",
       "      <td>-0.002660</td>\n",
       "      <td>-0.030391</td>\n",
       "      <td>0.030391</td>\n",
       "      <td>-0.136604</td>\n",
       "      <td>-0.383554</td>\n",
       "      <td>...</td>\n",
       "      <td>-0.111783</td>\n",
       "      <td>-0.022883</td>\n",
       "      <td>0.001287</td>\n",
       "      <td>-0.007024</td>\n",
       "      <td>0.014205</td>\n",
       "      <td>0.012600</td>\n",
       "      <td>-0.014389</td>\n",
       "      <td>-0.026505</td>\n",
       "      <td>0.037635</td>\n",
       "      <td>-0.012219</td>\n",
       "    </tr>\n",
       "    <tr>\n",
       "      <th>Age_36-45</th>\n",
       "      <td>0.058829</td>\n",
       "      <td>-0.014052</td>\n",
       "      <td>0.013465</td>\n",
       "      <td>0.005547</td>\n",
       "      <td>0.000998</td>\n",
       "      <td>0.005437</td>\n",
       "      <td>0.001313</td>\n",
       "      <td>-0.001313</td>\n",
       "      <td>-0.083761</td>\n",
       "      <td>-0.235180</td>\n",
       "      <td>...</td>\n",
       "      <td>0.014388</td>\n",
       "      <td>-0.011964</td>\n",
       "      <td>-0.016390</td>\n",
       "      <td>0.008146</td>\n",
       "      <td>0.048069</td>\n",
       "      <td>-0.026125</td>\n",
       "      <td>0.012852</td>\n",
       "      <td>-0.012956</td>\n",
       "      <td>0.004849</td>\n",
       "      <td>-0.006456</td>\n",
       "    </tr>\n",
       "    <tr>\n",
       "      <th>Age_46-50</th>\n",
       "      <td>0.021766</td>\n",
       "      <td>0.192858</td>\n",
       "      <td>0.027667</td>\n",
       "      <td>0.007826</td>\n",
       "      <td>-0.004121</td>\n",
       "      <td>-0.003342</td>\n",
       "      <td>0.029225</td>\n",
       "      <td>-0.029225</td>\n",
       "      <td>-0.050427</td>\n",
       "      <td>-0.141589</td>\n",
       "      <td>...</td>\n",
       "      <td>0.050465</td>\n",
       "      <td>0.008781</td>\n",
       "      <td>0.024857</td>\n",
       "      <td>-0.009016</td>\n",
       "      <td>-0.033590</td>\n",
       "      <td>0.003730</td>\n",
       "      <td>-0.064248</td>\n",
       "      <td>0.115518</td>\n",
       "      <td>-0.145479</td>\n",
       "      <td>0.129620</td>\n",
       "    </tr>\n",
       "    <tr>\n",
       "      <th>Age_51-55</th>\n",
       "      <td>0.030164</td>\n",
       "      <td>0.171640</td>\n",
       "      <td>0.026717</td>\n",
       "      <td>0.010217</td>\n",
       "      <td>-0.002000</td>\n",
       "      <td>0.015672</td>\n",
       "      <td>0.006060</td>\n",
       "      <td>-0.006060</td>\n",
       "      <td>-0.046028</td>\n",
       "      <td>-0.129237</td>\n",
       "      <td>...</td>\n",
       "      <td>0.039743</td>\n",
       "      <td>-0.017437</td>\n",
       "      <td>0.050257</td>\n",
       "      <td>-0.017713</td>\n",
       "      <td>-0.031211</td>\n",
       "      <td>0.001827</td>\n",
       "      <td>-0.038956</td>\n",
       "      <td>0.053509</td>\n",
       "      <td>-0.142298</td>\n",
       "      <td>0.147814</td>\n",
       "    </tr>\n",
       "    <tr>\n",
       "      <th>Age_55+</th>\n",
       "      <td>0.044393</td>\n",
       "      <td>0.092237</td>\n",
       "      <td>0.031870</td>\n",
       "      <td>0.004069</td>\n",
       "      <td>-0.008711</td>\n",
       "      <td>0.004612</td>\n",
       "      <td>-0.005027</td>\n",
       "      <td>0.005027</td>\n",
       "      <td>-0.033797</td>\n",
       "      <td>-0.094895</td>\n",
       "      <td>...</td>\n",
       "      <td>0.122509</td>\n",
       "      <td>-0.000002</td>\n",
       "      <td>-0.006988</td>\n",
       "      <td>0.002261</td>\n",
       "      <td>-0.003433</td>\n",
       "      <td>0.010394</td>\n",
       "      <td>-0.031514</td>\n",
       "      <td>0.029207</td>\n",
       "      <td>-0.069024</td>\n",
       "      <td>0.079136</td>\n",
       "    </tr>\n",
       "    <tr>\n",
       "      <th>City_Category_A</th>\n",
       "      <td>-0.021587</td>\n",
       "      <td>-0.031364</td>\n",
       "      <td>0.022605</td>\n",
       "      <td>-0.011832</td>\n",
       "      <td>-0.027942</td>\n",
       "      <td>-0.045135</td>\n",
       "      <td>-0.007711</td>\n",
       "      <td>0.007711</td>\n",
       "      <td>-0.038091</td>\n",
       "      <td>0.008290</td>\n",
       "      <td>...</td>\n",
       "      <td>-0.406867</td>\n",
       "      <td>0.051851</td>\n",
       "      <td>-0.024453</td>\n",
       "      <td>-0.002337</td>\n",
       "      <td>-0.007677</td>\n",
       "      <td>-0.006186</td>\n",
       "      <td>0.006198</td>\n",
       "      <td>-0.018080</td>\n",
       "      <td>0.026650</td>\n",
       "      <td>-0.021545</td>\n",
       "    </tr>\n",
       "    <tr>\n",
       "      <th>City_Category_B</th>\n",
       "      <td>-0.014391</td>\n",
       "      <td>-0.003267</td>\n",
       "      <td>0.001232</td>\n",
       "      <td>-0.008067</td>\n",
       "      <td>-0.007256</td>\n",
       "      <td>-0.023038</td>\n",
       "      <td>0.007780</td>\n",
       "      <td>-0.007780</td>\n",
       "      <td>-0.021843</td>\n",
       "      <td>0.013424</td>\n",
       "      <td>...</td>\n",
       "      <td>-0.571557</td>\n",
       "      <td>-0.030108</td>\n",
       "      <td>0.015712</td>\n",
       "      <td>-0.009953</td>\n",
       "      <td>0.026683</td>\n",
       "      <td>-0.009533</td>\n",
       "      <td>0.016515</td>\n",
       "      <td>-0.008009</td>\n",
       "      <td>-0.008392</td>\n",
       "      <td>0.001788</td>\n",
       "    </tr>\n",
       "    <tr>\n",
       "      <th>City_Category_C</th>\n",
       "      <td>0.036051</td>\n",
       "      <td>0.033554</td>\n",
       "      <td>-0.022984</td>\n",
       "      <td>0.019952</td>\n",
       "      <td>0.034529</td>\n",
       "      <td>0.067854</td>\n",
       "      <td>-0.000911</td>\n",
       "      <td>0.000911</td>\n",
       "      <td>0.059826</td>\n",
       "      <td>-0.022273</td>\n",
       "      <td>...</td>\n",
       "      <td>1.000000</td>\n",
       "      <td>-0.017575</td>\n",
       "      <td>0.006673</td>\n",
       "      <td>0.012862</td>\n",
       "      <td>-0.021117</td>\n",
       "      <td>0.016103</td>\n",
       "      <td>-0.023566</td>\n",
       "      <td>0.025879</td>\n",
       "      <td>-0.016592</td>\n",
       "      <td>0.018745</td>\n",
       "    </tr>\n",
       "    <tr>\n",
       "      <th>Stay_In_Current_City_Years_0</th>\n",
       "      <td>-0.025431</td>\n",
       "      <td>-0.010487</td>\n",
       "      <td>0.005473</td>\n",
       "      <td>-0.003074</td>\n",
       "      <td>-0.002247</td>\n",
       "      <td>-0.006885</td>\n",
       "      <td>-0.016572</td>\n",
       "      <td>0.016572</td>\n",
       "      <td>0.007615</td>\n",
       "      <td>0.043563</td>\n",
       "      <td>...</td>\n",
       "      <td>-0.017575</td>\n",
       "      <td>1.000000</td>\n",
       "      <td>-0.291117</td>\n",
       "      <td>-0.188336</td>\n",
       "      <td>-0.181108</td>\n",
       "      <td>-0.169154</td>\n",
       "      <td>-0.023181</td>\n",
       "      <td>0.003228</td>\n",
       "      <td>0.026684</td>\n",
       "      <td>-0.013309</td>\n",
       "    </tr>\n",
       "    <tr>\n",
       "      <th>Stay_In_Current_City_Years_1</th>\n",
       "      <td>-0.003359</td>\n",
       "      <td>0.027492</td>\n",
       "      <td>0.005838</td>\n",
       "      <td>0.001204</td>\n",
       "      <td>-0.003436</td>\n",
       "      <td>-0.002177</td>\n",
       "      <td>0.031119</td>\n",
       "      <td>-0.031119</td>\n",
       "      <td>-0.008012</td>\n",
       "      <td>-0.028843</td>\n",
       "      <td>...</td>\n",
       "      <td>0.006673</td>\n",
       "      <td>-0.291117</td>\n",
       "      <td>1.000000</td>\n",
       "      <td>-0.350844</td>\n",
       "      <td>-0.337379</td>\n",
       "      <td>-0.315110</td>\n",
       "      <td>0.016101</td>\n",
       "      <td>0.025565</td>\n",
       "      <td>-0.038515</td>\n",
       "      <td>0.012488</td>\n",
       "    </tr>\n",
       "    <tr>\n",
       "      <th>Stay_In_Current_City_Years_2</th>\n",
       "      <td>-0.011808</td>\n",
       "      <td>-0.004765</td>\n",
       "      <td>-0.008634</td>\n",
       "      <td>0.001660</td>\n",
       "      <td>0.004611</td>\n",
       "      <td>0.005797</td>\n",
       "      <td>-0.008319</td>\n",
       "      <td>0.008319</td>\n",
       "      <td>0.018706</td>\n",
       "      <td>0.009622</td>\n",
       "      <td>...</td>\n",
       "      <td>0.012862</td>\n",
       "      <td>-0.188336</td>\n",
       "      <td>-0.350844</td>\n",
       "      <td>1.000000</td>\n",
       "      <td>-0.218265</td>\n",
       "      <td>-0.203858</td>\n",
       "      <td>-0.000315</td>\n",
       "      <td>-0.011433</td>\n",
       "      <td>0.004933</td>\n",
       "      <td>0.002446</td>\n",
       "    </tr>\n",
       "    <tr>\n",
       "      <th>Stay_In_Current_City_Years_3</th>\n",
       "      <td>0.024887</td>\n",
       "      <td>-0.013056</td>\n",
       "      <td>-0.009581</td>\n",
       "      <td>-0.001821</td>\n",
       "      <td>0.002485</td>\n",
       "      <td>0.001139</td>\n",
       "      <td>0.011780</td>\n",
       "      <td>-0.011780</td>\n",
       "      <td>0.003139</td>\n",
       "      <td>-0.022810</td>\n",
       "      <td>...</td>\n",
       "      <td>-0.021117</td>\n",
       "      <td>-0.181108</td>\n",
       "      <td>-0.337379</td>\n",
       "      <td>-0.218265</td>\n",
       "      <td>1.000000</td>\n",
       "      <td>-0.196035</td>\n",
       "      <td>0.007772</td>\n",
       "      <td>0.007743</td>\n",
       "      <td>0.007440</td>\n",
       "      <td>-0.019021</td>\n",
       "    </tr>\n",
       "    <tr>\n",
       "      <th>Stay_In_Current_City_Years_4+</th>\n",
       "      <td>0.015096</td>\n",
       "      <td>-0.007596</td>\n",
       "      <td>0.006421</td>\n",
       "      <td>0.001441</td>\n",
       "      <td>-0.000892</td>\n",
       "      <td>0.001967</td>\n",
       "      <td>-0.028819</td>\n",
       "      <td>0.028819</td>\n",
       "      <td>-0.019991</td>\n",
       "      <td>0.010450</td>\n",
       "      <td>...</td>\n",
       "      <td>0.016103</td>\n",
       "      <td>-0.169154</td>\n",
       "      <td>-0.315110</td>\n",
       "      <td>-0.203858</td>\n",
       "      <td>-0.196035</td>\n",
       "      <td>1.000000</td>\n",
       "      <td>-0.007141</td>\n",
       "      <td>-0.032633</td>\n",
       "      <td>0.012537</td>\n",
       "      <td>0.013383</td>\n",
       "    </tr>\n",
       "    <tr>\n",
       "      <th>Combined_G_M_F_0</th>\n",
       "      <td>-0.111906</td>\n",
       "      <td>-0.339851</td>\n",
       "      <td>0.026843</td>\n",
       "      <td>0.001215</td>\n",
       "      <td>-0.024177</td>\n",
       "      <td>-0.047012</td>\n",
       "      <td>0.715672</td>\n",
       "      <td>-0.715672</td>\n",
       "      <td>0.093778</td>\n",
       "      <td>0.052979</td>\n",
       "      <td>...</td>\n",
       "      <td>-0.023566</td>\n",
       "      <td>-0.023181</td>\n",
       "      <td>0.016101</td>\n",
       "      <td>-0.000315</td>\n",
       "      <td>0.007772</td>\n",
       "      <td>-0.007141</td>\n",
       "      <td>1.000000</td>\n",
       "      <td>-0.138120</td>\n",
       "      <td>-0.367737</td>\n",
       "      <td>-0.271496</td>\n",
       "    </tr>\n",
       "    <tr>\n",
       "      <th>Combined_G_M_F_1</th>\n",
       "      <td>-0.036738</td>\n",
       "      <td>0.406414</td>\n",
       "      <td>0.033698</td>\n",
       "      <td>0.000770</td>\n",
       "      <td>-0.024289</td>\n",
       "      <td>-0.031188</td>\n",
       "      <td>0.592894</td>\n",
       "      <td>-0.592894</td>\n",
       "      <td>-0.056683</td>\n",
       "      <td>-0.061790</td>\n",
       "      <td>...</td>\n",
       "      <td>0.025879</td>\n",
       "      <td>0.003228</td>\n",
       "      <td>0.025565</td>\n",
       "      <td>-0.011433</td>\n",
       "      <td>0.007743</td>\n",
       "      <td>-0.032633</td>\n",
       "      <td>-0.138120</td>\n",
       "      <td>1.000000</td>\n",
       "      <td>-0.304649</td>\n",
       "      <td>-0.224919</td>\n",
       "    </tr>\n",
       "    <tr>\n",
       "      <th>Combined_G_M_M_0</th>\n",
       "      <td>0.055327</td>\n",
       "      <td>-0.749604</td>\n",
       "      <td>-0.040298</td>\n",
       "      <td>-0.001462</td>\n",
       "      <td>0.023060</td>\n",
       "      <td>0.034006</td>\n",
       "      <td>-0.513835</td>\n",
       "      <td>0.513835</td>\n",
       "      <td>0.071908</td>\n",
       "      <td>0.149980</td>\n",
       "      <td>...</td>\n",
       "      <td>-0.016592</td>\n",
       "      <td>0.026684</td>\n",
       "      <td>-0.038515</td>\n",
       "      <td>0.004933</td>\n",
       "      <td>0.007440</td>\n",
       "      <td>0.012537</td>\n",
       "      <td>-0.367737</td>\n",
       "      <td>-0.304649</td>\n",
       "      <td>1.000000</td>\n",
       "      <td>-0.598834</td>\n",
       "    </tr>\n",
       "    <tr>\n",
       "      <th>Combined_G_M_M_1</th>\n",
       "      <td>0.049455</td>\n",
       "      <td>0.798868</td>\n",
       "      <td>0.000903</td>\n",
       "      <td>0.000148</td>\n",
       "      <td>0.009471</td>\n",
       "      <td>0.019539</td>\n",
       "      <td>-0.379358</td>\n",
       "      <td>0.379358</td>\n",
       "      <td>-0.111419</td>\n",
       "      <td>-0.161290</td>\n",
       "      <td>...</td>\n",
       "      <td>0.018745</td>\n",
       "      <td>-0.013309</td>\n",
       "      <td>0.012488</td>\n",
       "      <td>0.002446</td>\n",
       "      <td>-0.019021</td>\n",
       "      <td>0.013383</td>\n",
       "      <td>-0.271496</td>\n",
       "      <td>-0.224919</td>\n",
       "      <td>-0.598834</td>\n",
       "      <td>1.000000</td>\n",
       "    </tr>\n",
       "  </tbody>\n",
       "</table>\n",
       "<p>27 rows × 27 columns</p>\n",
       "</div>"
      ],
      "text/plain": [
       "                               Occupation  Marital_Status  Product_Category_1  \\\n",
       "Occupation                       1.000000        0.023696           -0.007505   \n",
       "Marital_Status                   0.023696        1.000000            0.021649   \n",
       "Product_Category_1              -0.007505        0.021649            1.000000   \n",
       "Product_Category_2               0.007539        0.000614           -0.039945   \n",
       "Product_Category_3               0.012332       -0.006113           -0.390545   \n",
       "Purchase                         0.020586       -0.000931           -0.315476   \n",
       "Gender_F                        -0.116895        0.010277            0.045589   \n",
       "Gender_M                         0.116895       -0.010277           -0.045589   \n",
       "Age_0-17                         0.018224       -0.139471           -0.017156   \n",
       "Age_18-25                       -0.096366       -0.189389           -0.037714   \n",
       "Age_26-35                       -0.023870       -0.027820           -0.017756   \n",
       "Age_36-45                        0.058829       -0.014052            0.013465   \n",
       "Age_46-50                        0.021766        0.192858            0.027667   \n",
       "Age_51-55                        0.030164        0.171640            0.026717   \n",
       "Age_55+                          0.044393        0.092237            0.031870   \n",
       "City_Category_A                 -0.021587       -0.031364            0.022605   \n",
       "City_Category_B                 -0.014391       -0.003267            0.001232   \n",
       "City_Category_C                  0.036051        0.033554           -0.022984   \n",
       "Stay_In_Current_City_Years_0    -0.025431       -0.010487            0.005473   \n",
       "Stay_In_Current_City_Years_1    -0.003359        0.027492            0.005838   \n",
       "Stay_In_Current_City_Years_2    -0.011808       -0.004765           -0.008634   \n",
       "Stay_In_Current_City_Years_3     0.024887       -0.013056           -0.009581   \n",
       "Stay_In_Current_City_Years_4+    0.015096       -0.007596            0.006421   \n",
       "Combined_G_M_F_0                -0.111906       -0.339851            0.026843   \n",
       "Combined_G_M_F_1                -0.036738        0.406414            0.033698   \n",
       "Combined_G_M_M_0                 0.055327       -0.749604           -0.040298   \n",
       "Combined_G_M_M_1                 0.049455        0.798868            0.000903   \n",
       "\n",
       "                               Product_Category_2  Product_Category_3  \\\n",
       "Occupation                               0.007539            0.012332   \n",
       "Marital_Status                           0.000614           -0.006113   \n",
       "Product_Category_1                      -0.039945           -0.390545   \n",
       "Product_Category_2                       1.000000            0.088970   \n",
       "Product_Category_3                       0.088970            1.000000   \n",
       "Purchase                                 0.037932            0.283730   \n",
       "Gender_F                                 0.001530           -0.036786   \n",
       "Gender_M                                -0.001530            0.036786   \n",
       "Age_0-17                                -0.010122           -0.000220   \n",
       "Age_18-25                               -0.011842            0.004560   \n",
       "Age_26-35                               -0.003194            0.002484   \n",
       "Age_36-45                                0.005547            0.000998   \n",
       "Age_46-50                                0.007826           -0.004121   \n",
       "Age_51-55                                0.010217           -0.002000   \n",
       "Age_55+                                  0.004069           -0.008711   \n",
       "City_Category_A                         -0.011832           -0.027942   \n",
       "City_Category_B                         -0.008067           -0.007256   \n",
       "City_Category_C                          0.019952            0.034529   \n",
       "Stay_In_Current_City_Years_0            -0.003074           -0.002247   \n",
       "Stay_In_Current_City_Years_1             0.001204           -0.003436   \n",
       "Stay_In_Current_City_Years_2             0.001660            0.004611   \n",
       "Stay_In_Current_City_Years_3            -0.001821            0.002485   \n",
       "Stay_In_Current_City_Years_4+            0.001441           -0.000892   \n",
       "Combined_G_M_F_0                         0.001215           -0.024177   \n",
       "Combined_G_M_F_1                         0.000770           -0.024289   \n",
       "Combined_G_M_M_0                        -0.001462            0.023060   \n",
       "Combined_G_M_M_1                         0.000148            0.009471   \n",
       "\n",
       "                               Purchase  Gender_F  Gender_M  Age_0-17  \\\n",
       "Occupation                     0.020586 -0.116895  0.116895  0.018224   \n",
       "Marital_Status                -0.000931  0.010277 -0.010277 -0.139471   \n",
       "Product_Category_1            -0.315476  0.045589 -0.045589 -0.017156   \n",
       "Product_Category_2             0.037932  0.001530 -0.001530 -0.010122   \n",
       "Product_Category_3             0.283730 -0.036786  0.036786 -0.000220   \n",
       "Purchase                       1.000000 -0.060218  0.060218 -0.010515   \n",
       "Gender_F                      -0.060218  1.000000 -1.000000  0.036275   \n",
       "Gender_M                       0.060218 -1.000000  1.000000 -0.036275   \n",
       "Age_0-17                      -0.010515  0.036275 -0.036275  1.000000   \n",
       "Age_18-25                     -0.008131 -0.000499  0.000499 -0.078840   \n",
       "Age_26-35                     -0.002660 -0.030391  0.030391 -0.136604   \n",
       "Age_36-45                      0.005437  0.001313 -0.001313 -0.083761   \n",
       "Age_46-50                     -0.003342  0.029225 -0.029225 -0.050427   \n",
       "Age_51-55                      0.015672  0.006060 -0.006060 -0.046028   \n",
       "Age_55+                        0.004612 -0.005027  0.005027 -0.033797   \n",
       "City_Category_A               -0.045135 -0.007711  0.007711 -0.038091   \n",
       "City_Category_B               -0.023038  0.007780 -0.007780 -0.021843   \n",
       "City_Category_C                0.067854 -0.000911  0.000911  0.059826   \n",
       "Stay_In_Current_City_Years_0  -0.006885 -0.016572  0.016572  0.007615   \n",
       "Stay_In_Current_City_Years_1  -0.002177  0.031119 -0.031119 -0.008012   \n",
       "Stay_In_Current_City_Years_2   0.005797 -0.008319  0.008319  0.018706   \n",
       "Stay_In_Current_City_Years_3   0.001139  0.011780 -0.011780  0.003139   \n",
       "Stay_In_Current_City_Years_4+  0.001967 -0.028819  0.028819 -0.019991   \n",
       "Combined_G_M_F_0              -0.047012  0.715672 -0.715672  0.093778   \n",
       "Combined_G_M_F_1              -0.031188  0.592894 -0.592894 -0.056683   \n",
       "Combined_G_M_M_0               0.034006 -0.513835  0.513835  0.071908   \n",
       "Combined_G_M_M_1               0.019539 -0.379358  0.379358 -0.111419   \n",
       "\n",
       "                               Age_18-25        ...         City_Category_C  \\\n",
       "Occupation                     -0.096366        ...                0.036051   \n",
       "Marital_Status                 -0.189389        ...                0.033554   \n",
       "Product_Category_1             -0.037714        ...               -0.022984   \n",
       "Product_Category_2             -0.011842        ...                0.019952   \n",
       "Product_Category_3              0.004560        ...                0.034529   \n",
       "Purchase                       -0.008131        ...                0.067854   \n",
       "Gender_F                       -0.000499        ...               -0.000911   \n",
       "Gender_M                        0.000499        ...                0.000911   \n",
       "Age_0-17                       -0.078840        ...                0.059826   \n",
       "Age_18-25                       1.000000        ...               -0.022273   \n",
       "Age_26-35                      -0.383554        ...               -0.111783   \n",
       "Age_36-45                      -0.235180        ...                0.014388   \n",
       "Age_46-50                      -0.141589        ...                0.050465   \n",
       "Age_51-55                      -0.129237        ...                0.039743   \n",
       "Age_55+                        -0.094895        ...                0.122509   \n",
       "City_Category_A                 0.008290        ...               -0.406867   \n",
       "City_Category_B                 0.013424        ...               -0.571557   \n",
       "City_Category_C                -0.022273        ...                1.000000   \n",
       "Stay_In_Current_City_Years_0    0.043563        ...               -0.017575   \n",
       "Stay_In_Current_City_Years_1   -0.028843        ...                0.006673   \n",
       "Stay_In_Current_City_Years_2    0.009622        ...                0.012862   \n",
       "Stay_In_Current_City_Years_3   -0.022810        ...               -0.021117   \n",
       "Stay_In_Current_City_Years_4+   0.010450        ...                0.016103   \n",
       "Combined_G_M_F_0                0.052979        ...               -0.023566   \n",
       "Combined_G_M_F_1               -0.061790        ...                0.025879   \n",
       "Combined_G_M_M_0                0.149980        ...               -0.016592   \n",
       "Combined_G_M_M_1               -0.161290        ...                0.018745   \n",
       "\n",
       "                               Stay_In_Current_City_Years_0  \\\n",
       "Occupation                                        -0.025431   \n",
       "Marital_Status                                    -0.010487   \n",
       "Product_Category_1                                 0.005473   \n",
       "Product_Category_2                                -0.003074   \n",
       "Product_Category_3                                -0.002247   \n",
       "Purchase                                          -0.006885   \n",
       "Gender_F                                          -0.016572   \n",
       "Gender_M                                           0.016572   \n",
       "Age_0-17                                           0.007615   \n",
       "Age_18-25                                          0.043563   \n",
       "Age_26-35                                         -0.022883   \n",
       "Age_36-45                                         -0.011964   \n",
       "Age_46-50                                          0.008781   \n",
       "Age_51-55                                         -0.017437   \n",
       "Age_55+                                           -0.000002   \n",
       "City_Category_A                                    0.051851   \n",
       "City_Category_B                                   -0.030108   \n",
       "City_Category_C                                   -0.017575   \n",
       "Stay_In_Current_City_Years_0                       1.000000   \n",
       "Stay_In_Current_City_Years_1                      -0.291117   \n",
       "Stay_In_Current_City_Years_2                      -0.188336   \n",
       "Stay_In_Current_City_Years_3                      -0.181108   \n",
       "Stay_In_Current_City_Years_4+                     -0.169154   \n",
       "Combined_G_M_F_0                                  -0.023181   \n",
       "Combined_G_M_F_1                                   0.003228   \n",
       "Combined_G_M_M_0                                   0.026684   \n",
       "Combined_G_M_M_1                                  -0.013309   \n",
       "\n",
       "                               Stay_In_Current_City_Years_1  \\\n",
       "Occupation                                        -0.003359   \n",
       "Marital_Status                                     0.027492   \n",
       "Product_Category_1                                 0.005838   \n",
       "Product_Category_2                                 0.001204   \n",
       "Product_Category_3                                -0.003436   \n",
       "Purchase                                          -0.002177   \n",
       "Gender_F                                           0.031119   \n",
       "Gender_M                                          -0.031119   \n",
       "Age_0-17                                          -0.008012   \n",
       "Age_18-25                                         -0.028843   \n",
       "Age_26-35                                          0.001287   \n",
       "Age_36-45                                         -0.016390   \n",
       "Age_46-50                                          0.024857   \n",
       "Age_51-55                                          0.050257   \n",
       "Age_55+                                           -0.006988   \n",
       "City_Category_A                                   -0.024453   \n",
       "City_Category_B                                    0.015712   \n",
       "City_Category_C                                    0.006673   \n",
       "Stay_In_Current_City_Years_0                      -0.291117   \n",
       "Stay_In_Current_City_Years_1                       1.000000   \n",
       "Stay_In_Current_City_Years_2                      -0.350844   \n",
       "Stay_In_Current_City_Years_3                      -0.337379   \n",
       "Stay_In_Current_City_Years_4+                     -0.315110   \n",
       "Combined_G_M_F_0                                   0.016101   \n",
       "Combined_G_M_F_1                                   0.025565   \n",
       "Combined_G_M_M_0                                  -0.038515   \n",
       "Combined_G_M_M_1                                   0.012488   \n",
       "\n",
       "                               Stay_In_Current_City_Years_2  \\\n",
       "Occupation                                        -0.011808   \n",
       "Marital_Status                                    -0.004765   \n",
       "Product_Category_1                                -0.008634   \n",
       "Product_Category_2                                 0.001660   \n",
       "Product_Category_3                                 0.004611   \n",
       "Purchase                                           0.005797   \n",
       "Gender_F                                          -0.008319   \n",
       "Gender_M                                           0.008319   \n",
       "Age_0-17                                           0.018706   \n",
       "Age_18-25                                          0.009622   \n",
       "Age_26-35                                         -0.007024   \n",
       "Age_36-45                                          0.008146   \n",
       "Age_46-50                                         -0.009016   \n",
       "Age_51-55                                         -0.017713   \n",
       "Age_55+                                            0.002261   \n",
       "City_Category_A                                   -0.002337   \n",
       "City_Category_B                                   -0.009953   \n",
       "City_Category_C                                    0.012862   \n",
       "Stay_In_Current_City_Years_0                      -0.188336   \n",
       "Stay_In_Current_City_Years_1                      -0.350844   \n",
       "Stay_In_Current_City_Years_2                       1.000000   \n",
       "Stay_In_Current_City_Years_3                      -0.218265   \n",
       "Stay_In_Current_City_Years_4+                     -0.203858   \n",
       "Combined_G_M_F_0                                  -0.000315   \n",
       "Combined_G_M_F_1                                  -0.011433   \n",
       "Combined_G_M_M_0                                   0.004933   \n",
       "Combined_G_M_M_1                                   0.002446   \n",
       "\n",
       "                               Stay_In_Current_City_Years_3  \\\n",
       "Occupation                                         0.024887   \n",
       "Marital_Status                                    -0.013056   \n",
       "Product_Category_1                                -0.009581   \n",
       "Product_Category_2                                -0.001821   \n",
       "Product_Category_3                                 0.002485   \n",
       "Purchase                                           0.001139   \n",
       "Gender_F                                           0.011780   \n",
       "Gender_M                                          -0.011780   \n",
       "Age_0-17                                           0.003139   \n",
       "Age_18-25                                         -0.022810   \n",
       "Age_26-35                                          0.014205   \n",
       "Age_36-45                                          0.048069   \n",
       "Age_46-50                                         -0.033590   \n",
       "Age_51-55                                         -0.031211   \n",
       "Age_55+                                           -0.003433   \n",
       "City_Category_A                                   -0.007677   \n",
       "City_Category_B                                    0.026683   \n",
       "City_Category_C                                   -0.021117   \n",
       "Stay_In_Current_City_Years_0                      -0.181108   \n",
       "Stay_In_Current_City_Years_1                      -0.337379   \n",
       "Stay_In_Current_City_Years_2                      -0.218265   \n",
       "Stay_In_Current_City_Years_3                       1.000000   \n",
       "Stay_In_Current_City_Years_4+                     -0.196035   \n",
       "Combined_G_M_F_0                                   0.007772   \n",
       "Combined_G_M_F_1                                   0.007743   \n",
       "Combined_G_M_M_0                                   0.007440   \n",
       "Combined_G_M_M_1                                  -0.019021   \n",
       "\n",
       "                               Stay_In_Current_City_Years_4+  \\\n",
       "Occupation                                          0.015096   \n",
       "Marital_Status                                     -0.007596   \n",
       "Product_Category_1                                  0.006421   \n",
       "Product_Category_2                                  0.001441   \n",
       "Product_Category_3                                 -0.000892   \n",
       "Purchase                                            0.001967   \n",
       "Gender_F                                           -0.028819   \n",
       "Gender_M                                            0.028819   \n",
       "Age_0-17                                           -0.019991   \n",
       "Age_18-25                                           0.010450   \n",
       "Age_26-35                                           0.012600   \n",
       "Age_36-45                                          -0.026125   \n",
       "Age_46-50                                           0.003730   \n",
       "Age_51-55                                           0.001827   \n",
       "Age_55+                                             0.010394   \n",
       "City_Category_A                                    -0.006186   \n",
       "City_Category_B                                    -0.009533   \n",
       "City_Category_C                                     0.016103   \n",
       "Stay_In_Current_City_Years_0                       -0.169154   \n",
       "Stay_In_Current_City_Years_1                       -0.315110   \n",
       "Stay_In_Current_City_Years_2                       -0.203858   \n",
       "Stay_In_Current_City_Years_3                       -0.196035   \n",
       "Stay_In_Current_City_Years_4+                       1.000000   \n",
       "Combined_G_M_F_0                                   -0.007141   \n",
       "Combined_G_M_F_1                                   -0.032633   \n",
       "Combined_G_M_M_0                                    0.012537   \n",
       "Combined_G_M_M_1                                    0.013383   \n",
       "\n",
       "                               Combined_G_M_F_0  Combined_G_M_F_1  \\\n",
       "Occupation                            -0.111906         -0.036738   \n",
       "Marital_Status                        -0.339851          0.406414   \n",
       "Product_Category_1                     0.026843          0.033698   \n",
       "Product_Category_2                     0.001215          0.000770   \n",
       "Product_Category_3                    -0.024177         -0.024289   \n",
       "Purchase                              -0.047012         -0.031188   \n",
       "Gender_F                               0.715672          0.592894   \n",
       "Gender_M                              -0.715672         -0.592894   \n",
       "Age_0-17                               0.093778         -0.056683   \n",
       "Age_18-25                              0.052979         -0.061790   \n",
       "Age_26-35                             -0.014389         -0.026505   \n",
       "Age_36-45                              0.012852         -0.012956   \n",
       "Age_46-50                             -0.064248          0.115518   \n",
       "Age_51-55                             -0.038956          0.053509   \n",
       "Age_55+                               -0.031514          0.029207   \n",
       "City_Category_A                        0.006198         -0.018080   \n",
       "City_Category_B                        0.016515         -0.008009   \n",
       "City_Category_C                       -0.023566          0.025879   \n",
       "Stay_In_Current_City_Years_0          -0.023181          0.003228   \n",
       "Stay_In_Current_City_Years_1           0.016101          0.025565   \n",
       "Stay_In_Current_City_Years_2          -0.000315         -0.011433   \n",
       "Stay_In_Current_City_Years_3           0.007772          0.007743   \n",
       "Stay_In_Current_City_Years_4+         -0.007141         -0.032633   \n",
       "Combined_G_M_F_0                       1.000000         -0.138120   \n",
       "Combined_G_M_F_1                      -0.138120          1.000000   \n",
       "Combined_G_M_M_0                      -0.367737         -0.304649   \n",
       "Combined_G_M_M_1                      -0.271496         -0.224919   \n",
       "\n",
       "                               Combined_G_M_M_0  Combined_G_M_M_1  \n",
       "Occupation                             0.055327          0.049455  \n",
       "Marital_Status                        -0.749604          0.798868  \n",
       "Product_Category_1                    -0.040298          0.000903  \n",
       "Product_Category_2                    -0.001462          0.000148  \n",
       "Product_Category_3                     0.023060          0.009471  \n",
       "Purchase                               0.034006          0.019539  \n",
       "Gender_F                              -0.513835         -0.379358  \n",
       "Gender_M                               0.513835          0.379358  \n",
       "Age_0-17                               0.071908         -0.111419  \n",
       "Age_18-25                              0.149980         -0.161290  \n",
       "Age_26-35                              0.037635         -0.012219  \n",
       "Age_36-45                              0.004849         -0.006456  \n",
       "Age_46-50                             -0.145479          0.129620  \n",
       "Age_51-55                             -0.142298          0.147814  \n",
       "Age_55+                               -0.069024          0.079136  \n",
       "City_Category_A                        0.026650         -0.021545  \n",
       "City_Category_B                       -0.008392          0.001788  \n",
       "City_Category_C                       -0.016592          0.018745  \n",
       "Stay_In_Current_City_Years_0           0.026684         -0.013309  \n",
       "Stay_In_Current_City_Years_1          -0.038515          0.012488  \n",
       "Stay_In_Current_City_Years_2           0.004933          0.002446  \n",
       "Stay_In_Current_City_Years_3           0.007440         -0.019021  \n",
       "Stay_In_Current_City_Years_4+          0.012537          0.013383  \n",
       "Combined_G_M_F_0                      -0.367737         -0.271496  \n",
       "Combined_G_M_F_1                      -0.304649         -0.224919  \n",
       "Combined_G_M_M_0                       1.000000         -0.598834  \n",
       "Combined_G_M_M_1                      -0.598834          1.000000  \n",
       "\n",
       "[27 rows x 27 columns]"
      ]
     },
     "execution_count": 36,
     "metadata": {},
     "output_type": "execute_result"
    }
   ],
   "source": [
    "corr_matrix = train_set.corr()\n",
    "\n",
    "corr_matrix"
   ]
  },
  {
   "cell_type": "code",
   "execution_count": 37,
   "metadata": {},
   "outputs": [
    {
     "data": {
      "text/plain": [
       "Occupation                       0.020586\n",
       "Marital_Status                  -0.000931\n",
       "Product_Category_1              -0.315476\n",
       "Product_Category_2               0.037932\n",
       "Product_Category_3               0.283730\n",
       "Purchase                         1.000000\n",
       "Gender_F                        -0.060218\n",
       "Gender_M                         0.060218\n",
       "Age_0-17                        -0.010515\n",
       "Age_18-25                       -0.008131\n",
       "Age_26-35                       -0.002660\n",
       "Age_36-45                        0.005437\n",
       "Age_46-50                       -0.003342\n",
       "Age_51-55                        0.015672\n",
       "Age_55+                          0.004612\n",
       "City_Category_A                 -0.045135\n",
       "City_Category_B                 -0.023038\n",
       "City_Category_C                  0.067854\n",
       "Stay_In_Current_City_Years_0    -0.006885\n",
       "Stay_In_Current_City_Years_1    -0.002177\n",
       "Stay_In_Current_City_Years_2     0.005797\n",
       "Stay_In_Current_City_Years_3     0.001139\n",
       "Stay_In_Current_City_Years_4+    0.001967\n",
       "Combined_G_M_F_0                -0.047012\n",
       "Combined_G_M_F_1                -0.031188\n",
       "Combined_G_M_M_0                 0.034006\n",
       "Combined_G_M_M_1                 0.019539\n",
       "Name: Purchase, dtype: float64"
      ]
     },
     "execution_count": 37,
     "metadata": {},
     "output_type": "execute_result"
    }
   ],
   "source": [
    "corr_matrix[\"Purchase\"]"
   ]
  },
  {
   "cell_type": "code",
   "execution_count": 38,
   "metadata": {},
   "outputs": [
    {
     "data": {
      "text/plain": [
       "Purchase                         1.000000\n",
       "Product_Category_3               0.283730\n",
       "City_Category_C                  0.067854\n",
       "Gender_M                         0.060218\n",
       "Product_Category_2               0.037932\n",
       "Combined_G_M_M_0                 0.034006\n",
       "Occupation                       0.020586\n",
       "Combined_G_M_M_1                 0.019539\n",
       "Age_51-55                        0.015672\n",
       "Stay_In_Current_City_Years_2     0.005797\n",
       "Age_36-45                        0.005437\n",
       "Age_55+                          0.004612\n",
       "Stay_In_Current_City_Years_4+    0.001967\n",
       "Stay_In_Current_City_Years_3     0.001139\n",
       "Marital_Status                  -0.000931\n",
       "Stay_In_Current_City_Years_1    -0.002177\n",
       "Age_26-35                       -0.002660\n",
       "Age_46-50                       -0.003342\n",
       "Stay_In_Current_City_Years_0    -0.006885\n",
       "Age_18-25                       -0.008131\n",
       "Age_0-17                        -0.010515\n",
       "City_Category_B                 -0.023038\n",
       "Combined_G_M_F_1                -0.031188\n",
       "City_Category_A                 -0.045135\n",
       "Combined_G_M_F_0                -0.047012\n",
       "Gender_F                        -0.060218\n",
       "Product_Category_1              -0.315476\n",
       "Name: Purchase, dtype: float64"
      ]
     },
     "execution_count": 38,
     "metadata": {},
     "output_type": "execute_result"
    }
   ],
   "source": [
    "corr_matrix[\"Purchase\"].sort_values(ascending=False)"
   ]
  },
  {
   "cell_type": "code",
   "execution_count": 39,
   "metadata": {},
   "outputs": [],
   "source": [
    "\n",
    "X_train = train_set.drop(\"Purchase\", axis=1) # drop labels for training set\n",
    "y_train = train_set[\"Purchase\"].copy()"
   ]
  },
  {
   "cell_type": "markdown",
   "metadata": {},
   "source": [
    "### Selecting the model"
   ]
  },
  {
   "cell_type": "code",
   "execution_count": 40,
   "metadata": {},
   "outputs": [
    {
     "data": {
      "text/plain": [
       "LinearRegression(copy_X=True, fit_intercept=True, n_jobs=1, normalize=False)"
      ]
     },
     "execution_count": 40,
     "metadata": {},
     "output_type": "execute_result"
    }
   ],
   "source": [
    "\n",
    "from sklearn.linear_model import LinearRegression\n",
    "\n",
    "lin_reg = LinearRegression()\n",
    "lin_reg.fit(X_train, y_train)"
   ]
  },
  {
   "cell_type": "code",
   "execution_count": 41,
   "metadata": {},
   "outputs": [
    {
     "data": {
      "text/plain": [
       "4628.860170843433"
      ]
     },
     "execution_count": 41,
     "metadata": {},
     "output_type": "execute_result"
    }
   ],
   "source": [
    "from sklearn.metrics import mean_squared_error\n",
    "\n",
    "train_predictions = lin_reg.predict(X_train)\n",
    "lin_mse = mean_squared_error(y_train, train_predictions)\n",
    "lin_rmse = np.sqrt(lin_mse)\n",
    "lin_rmse"
   ]
  },
  {
   "cell_type": "code",
   "execution_count": 42,
   "metadata": {},
   "outputs": [
    {
     "data": {
      "text/plain": [
       "DecisionTreeRegressor(criterion='mse', max_depth=None, max_features=None,\n",
       "           max_leaf_nodes=None, min_impurity_decrease=0.0,\n",
       "           min_impurity_split=None, min_samples_leaf=1,\n",
       "           min_samples_split=2, min_weight_fraction_leaf=0.0,\n",
       "           presort=False, random_state=42, splitter='best')"
      ]
     },
     "execution_count": 42,
     "metadata": {},
     "output_type": "execute_result"
    }
   ],
   "source": [
    "from sklearn.tree import DecisionTreeRegressor\n",
    "\n",
    "tree_reg = DecisionTreeRegressor(random_state=42)\n",
    "tree_reg.fit(X_train, y_train)"
   ]
  },
  {
   "cell_type": "code",
   "execution_count": 43,
   "metadata": {},
   "outputs": [
    {
     "data": {
      "text/plain": [
       "2236.895447759055"
      ]
     },
     "execution_count": 43,
     "metadata": {},
     "output_type": "execute_result"
    }
   ],
   "source": [
    "train_predictions = tree_reg.predict(X_train)\n",
    "tree_mse = mean_squared_error(y_train, train_predictions)\n",
    "tree_rmse = np.sqrt(tree_mse)\n",
    "tree_rmse"
   ]
  },
  {
   "cell_type": "code",
   "execution_count": 44,
   "metadata": {},
   "outputs": [],
   "source": [
    "from sklearn.model_selection import cross_val_score\n",
    "\n",
    "tree_reg = DecisionTreeRegressor(random_state=42)\n",
    "scores = cross_val_score(tree_reg, X_train, y_train,\n",
    "                         scoring=\"neg_mean_squared_error\", cv=10)\n",
    "tree_rmse_scores = np.sqrt(-scores)"
   ]
  },
  {
   "cell_type": "code",
   "execution_count": 1,
   "metadata": {},
   "outputs": [
    {
     "ename": "SyntaxError",
     "evalue": "EOL while scanning string literal (<ipython-input-1-b66bd98cccfc>, line 10)",
     "output_type": "error",
     "traceback": [
      "\u001b[0;36m  File \u001b[0;32m\"<ipython-input-1-b66bd98cccfc>\"\u001b[0;36m, line \u001b[0;32m10\u001b[0m\n\u001b[0;31m    \"\"\"\"\u001b[0m\n\u001b[0m        \n^\u001b[0m\n\u001b[0;31mSyntaxError\u001b[0m\u001b[0;31m:\u001b[0m EOL while scanning string literal\n"
     ]
    }
   ],
   "source": [
    "def display_scores(scores):\n",
    "    \"\"\"\"\n",
    "    Prints the parameter values, Mean of parameter values and Standard deviation of parameter values.\n",
    "    Here the parameter value is scores\n",
    "    Args: \n",
    "        Cross validation scores\n",
    "    Returns:\n",
    "        nothing\n",
    "        ....\n",
    "    \"\"\"\"\n",
    "    print(\"Scores:\", scores)\n",
    "    print(\"Mean:\", scores.mean())\n",
    "    print(\"Standard deviation:\", scores.std())\n",
    "\n",
    "display_scores(tree_rmse_scores)"
   ]
  },
  {
   "cell_type": "code",
   "execution_count": 46,
   "metadata": {},
   "outputs": [
    {
     "name": "stdout",
     "output_type": "stream",
     "text": [
      "Scores: [4646.81309627 4583.98383267 4643.39784918 4589.92840477 4617.64162405\n",
      " 4622.04748062 4624.58415255 4648.51245304 4655.159447   4658.01835169]\n",
      "Mean: 4629.008669183671\n",
      "Standard deviation: 24.862855322531843\n"
     ]
    }
   ],
   "source": [
    "# Now compute the same score for Linear Regression\n",
    "\n",
    "lin_scores = cross_val_score(lin_reg, X_train, y_train,\n",
    "                             scoring=\"neg_mean_squared_error\", cv=10)\n",
    "lin_rmse_scores = np.sqrt(-lin_scores)\n",
    "display_scores(lin_rmse_scores)"
   ]
  },
  {
   "cell_type": "code",
   "execution_count": 47,
   "metadata": {},
   "outputs": [
    {
     "data": {
      "text/plain": [
       "RandomForestRegressor(bootstrap=True, criterion='mse', max_depth=None,\n",
       "           max_features='auto', max_leaf_nodes=None,\n",
       "           min_impurity_decrease=0.0, min_impurity_split=None,\n",
       "           min_samples_leaf=1, min_samples_split=2,\n",
       "           min_weight_fraction_leaf=0.0, n_estimators=10, n_jobs=1,\n",
       "           oob_score=False, random_state=42, verbose=0, warm_start=False)"
      ]
     },
     "execution_count": 47,
     "metadata": {},
     "output_type": "execute_result"
    }
   ],
   "source": [
    "from sklearn.ensemble import RandomForestRegressor\n",
    "\n",
    "forest_reg = RandomForestRegressor(random_state=42)\n",
    "forest_reg.fit(X_train, y_train)"
   ]
  },
  {
   "cell_type": "code",
   "execution_count": 48,
   "metadata": {},
   "outputs": [
    {
     "data": {
      "text/plain": [
       "2339.735708423163"
      ]
     },
     "execution_count": 48,
     "metadata": {},
     "output_type": "execute_result"
    }
   ],
   "source": [
    "# Calculate RMSE in Random Forest model\n",
    "\n",
    "train_predictions = forest_reg.predict(X_train)\n",
    "forest_mse = mean_squared_error(y_train, train_predictions)\n",
    "forest_rmse = np.sqrt(forest_mse)\n",
    "forest_rmse"
   ]
  },
  {
   "cell_type": "code",
   "execution_count": 49,
   "metadata": {},
   "outputs": [
    {
     "name": "stdout",
     "output_type": "stream",
     "text": [
      "Scores: [3129.91385374 3079.77472002 3104.65146265 3097.60723872 3117.35336381\n",
      " 3112.26290762 3110.40935826 3103.44954927 3085.03495199 3098.79301797]\n",
      "Mean: 3103.9250424046395\n",
      "Standard deviation: 14.051278105957428\n"
     ]
    }
   ],
   "source": [
    "# Cross Validation in Random Forest model\n",
    "\n",
    "from sklearn.model_selection import cross_val_score\n",
    "\n",
    "forest_scores = cross_val_score(forest_reg, X_train, y_train,\n",
    "                                scoring=\"neg_mean_squared_error\", cv=10)\n",
    "forest_rmse_scores = np.sqrt(-forest_scores)\n",
    "display_scores(forest_rmse_scores)"
   ]
  },
  {
   "cell_type": "markdown",
   "metadata": {},
   "source": [
    "### Tuning the model"
   ]
  },
  {
   "cell_type": "code",
   "execution_count": 50,
   "metadata": {},
   "outputs": [
    {
     "data": {
      "text/plain": [
       "GridSearchCV(cv=5, error_score='raise',\n",
       "       estimator=RandomForestRegressor(bootstrap=True, criterion='mse', max_depth=None,\n",
       "           max_features='auto', max_leaf_nodes=None,\n",
       "           min_impurity_decrease=0.0, min_impurity_split=None,\n",
       "           min_samples_leaf=1, min_samples_split=2,\n",
       "           min_weight_fraction_leaf=0.0, n_estimators=10, n_jobs=1,\n",
       "           oob_score=False, random_state=42, verbose=0, warm_start=False),\n",
       "       fit_params=None, iid=True, n_jobs=1,\n",
       "       param_grid=[{'n_estimators': [3, 10, 30], 'max_features': [2, 4, 6, 8]}, {'bootstrap': [False], 'n_estimators': [3, 10], 'max_features': [2, 3, 4]}],\n",
       "       pre_dispatch='2*n_jobs', refit=True, return_train_score=True,\n",
       "       scoring='neg_mean_squared_error', verbose=0)"
      ]
     },
     "execution_count": 50,
     "metadata": {},
     "output_type": "execute_result"
    }
   ],
   "source": [
    "from sklearn.model_selection import GridSearchCV\n",
    "\n",
    "\n",
    "param_grid = [\n",
    "    # try 12 (3×4) combinations of hyperparameters\n",
    "    {'n_estimators': [3, 10, 30], 'max_features': [2, 4, 6, 8]},\n",
    "    # then try 6 (2×3) combinations with bootstrap set as False\n",
    "    {'bootstrap': [False], 'n_estimators': [3, 10], 'max_features': [2, 3, 4]},\n",
    "]\n",
    "\n",
    "forest_reg = RandomForestRegressor(random_state=42)\n",
    "\n",
    "grid_search = GridSearchCV(forest_reg, param_grid, cv=5,\n",
    "                           scoring='neg_mean_squared_error')\n",
    "\n",
    "\n",
    "grid_search.fit(X_train, y_train)"
   ]
  },
  {
   "cell_type": "code",
   "execution_count": 51,
   "metadata": {},
   "outputs": [
    {
     "data": {
      "text/plain": [
       "{'max_features': 8, 'n_estimators': 30}"
      ]
     },
     "execution_count": 51,
     "metadata": {},
     "output_type": "execute_result"
    }
   ],
   "source": [
    "grid_search.best_params_"
   ]
  },
  {
   "cell_type": "code",
   "execution_count": 52,
   "metadata": {},
   "outputs": [
    {
     "data": {
      "text/plain": [
       "RandomForestRegressor(bootstrap=True, criterion='mse', max_depth=None,\n",
       "           max_features=8, max_leaf_nodes=None, min_impurity_decrease=0.0,\n",
       "           min_impurity_split=None, min_samples_leaf=1,\n",
       "           min_samples_split=2, min_weight_fraction_leaf=0.0,\n",
       "           n_estimators=30, n_jobs=1, oob_score=False, random_state=42,\n",
       "           verbose=0, warm_start=False)"
      ]
     },
     "execution_count": 52,
     "metadata": {},
     "output_type": "execute_result"
    }
   ],
   "source": [
    "\n",
    "grid_search.best_estimator_"
   ]
  },
  {
   "cell_type": "code",
   "execution_count": 53,
   "metadata": {},
   "outputs": [
    {
     "name": "stdout",
     "output_type": "stream",
     "text": [
      "3503.7696540190086 {'max_features': 2, 'n_estimators': 3}\n",
      "3347.31495549597 {'max_features': 2, 'n_estimators': 10}\n",
      "3290.179853969534 {'max_features': 2, 'n_estimators': 30}\n",
      "3407.0344820673417 {'max_features': 4, 'n_estimators': 3}\n",
      "3229.1943246090855 {'max_features': 4, 'n_estimators': 10}\n",
      "3184.4746057214693 {'max_features': 4, 'n_estimators': 30}\n",
      "3293.6690117303124 {'max_features': 6, 'n_estimators': 3}\n",
      "3163.058960819297 {'max_features': 6, 'n_estimators': 10}\n",
      "3112.5192390210623 {'max_features': 6, 'n_estimators': 30}\n",
      "3253.8455047792772 {'max_features': 8, 'n_estimators': 3}\n",
      "3126.0579266832747 {'max_features': 8, 'n_estimators': 10}\n",
      "3085.292598948231 {'max_features': 8, 'n_estimators': 30}\n",
      "3497.4243498401943 {'bootstrap': False, 'max_features': 2, 'n_estimators': 3}\n",
      "3424.8243766435903 {'bootstrap': False, 'max_features': 2, 'n_estimators': 10}\n",
      "3456.0666903269675 {'bootstrap': False, 'max_features': 3, 'n_estimators': 3}\n",
      "3383.928373786367 {'bootstrap': False, 'max_features': 3, 'n_estimators': 10}\n",
      "3425.0269160167086 {'bootstrap': False, 'max_features': 4, 'n_estimators': 3}\n",
      "3334.8057069914425 {'bootstrap': False, 'max_features': 4, 'n_estimators': 10}\n"
     ]
    }
   ],
   "source": [
    "cvres = grid_search.cv_results_\n",
    "for mean_score, params in zip(cvres[\"mean_test_score\"], cvres[\"params\"]):\n",
    "    print(np.sqrt(-mean_score), params)"
   ]
  },
  {
   "cell_type": "markdown",
   "metadata": {},
   "source": [
    "### Prediction on Test Data"
   ]
  },
  {
   "cell_type": "code",
   "execution_count": 54,
   "metadata": {},
   "outputs": [],
   "source": [
    "# Evaluate model on the Test Set\n",
    "\n",
    "final_model = grid_search.best_estimator_\n",
    "\n",
    "X_test = test_set.drop(\"Purchase\", axis=1)\n",
    "y_test = test_set[\"Purchase\"].copy()\n",
    "\n",
    "\n",
    "final_predictions = final_model.predict(X_test)\n",
    "\n",
    "final_mse = mean_squared_error(y_test, final_predictions)\n",
    "final_rmse = np.sqrt(final_mse)"
   ]
  },
  {
   "cell_type": "code",
   "execution_count": 55,
   "metadata": {},
   "outputs": [
    {
     "data": {
      "text/plain": [
       "3069.4347607530985"
      ]
     },
     "execution_count": 55,
     "metadata": {},
     "output_type": "execute_result"
    }
   ],
   "source": [
    "final_rmse"
   ]
  },
  {
   "cell_type": "code",
   "execution_count": 56,
   "metadata": {},
   "outputs": [
    {
     "data": {
      "text/html": [
       "<div>\n",
       "<style scoped>\n",
       "    .dataframe tbody tr th:only-of-type {\n",
       "        vertical-align: middle;\n",
       "    }\n",
       "\n",
       "    .dataframe tbody tr th {\n",
       "        vertical-align: top;\n",
       "    }\n",
       "\n",
       "    .dataframe thead th {\n",
       "        text-align: right;\n",
       "    }\n",
       "</style>\n",
       "<table border=\"1\" class=\"dataframe\">\n",
       "  <thead>\n",
       "    <tr style=\"text-align: right;\">\n",
       "      <th></th>\n",
       "      <th>Occupation</th>\n",
       "      <th>Marital_Status</th>\n",
       "      <th>Product_Category_1</th>\n",
       "      <th>Product_Category_2</th>\n",
       "      <th>Product_Category_3</th>\n",
       "      <th>Gender_F</th>\n",
       "      <th>Gender_M</th>\n",
       "      <th>Age_0-17</th>\n",
       "      <th>Age_18-25</th>\n",
       "      <th>Age_26-35</th>\n",
       "      <th>...</th>\n",
       "      <th>City_Category_C</th>\n",
       "      <th>Stay_In_Current_City_Years_0</th>\n",
       "      <th>Stay_In_Current_City_Years_1</th>\n",
       "      <th>Stay_In_Current_City_Years_2</th>\n",
       "      <th>Stay_In_Current_City_Years_3</th>\n",
       "      <th>Stay_In_Current_City_Years_4+</th>\n",
       "      <th>Combined_G_M_F_0</th>\n",
       "      <th>Combined_G_M_F_1</th>\n",
       "      <th>Combined_G_M_M_0</th>\n",
       "      <th>Combined_G_M_M_1</th>\n",
       "    </tr>\n",
       "  </thead>\n",
       "  <tbody>\n",
       "    <tr>\n",
       "      <th>287383</th>\n",
       "      <td>17</td>\n",
       "      <td>0</td>\n",
       "      <td>1</td>\n",
       "      <td>2</td>\n",
       "      <td>15</td>\n",
       "      <td>0</td>\n",
       "      <td>1</td>\n",
       "      <td>0</td>\n",
       "      <td>0</td>\n",
       "      <td>1</td>\n",
       "      <td>...</td>\n",
       "      <td>1</td>\n",
       "      <td>0</td>\n",
       "      <td>0</td>\n",
       "      <td>0</td>\n",
       "      <td>1</td>\n",
       "      <td>0</td>\n",
       "      <td>0</td>\n",
       "      <td>0</td>\n",
       "      <td>1</td>\n",
       "      <td>0</td>\n",
       "    </tr>\n",
       "    <tr>\n",
       "      <th>130087</th>\n",
       "      <td>14</td>\n",
       "      <td>0</td>\n",
       "      <td>1</td>\n",
       "      <td>16</td>\n",
       "      <td>0</td>\n",
       "      <td>0</td>\n",
       "      <td>1</td>\n",
       "      <td>0</td>\n",
       "      <td>0</td>\n",
       "      <td>1</td>\n",
       "      <td>...</td>\n",
       "      <td>0</td>\n",
       "      <td>0</td>\n",
       "      <td>0</td>\n",
       "      <td>0</td>\n",
       "      <td>1</td>\n",
       "      <td>0</td>\n",
       "      <td>0</td>\n",
       "      <td>0</td>\n",
       "      <td>1</td>\n",
       "      <td>0</td>\n",
       "    </tr>\n",
       "    <tr>\n",
       "      <th>104368</th>\n",
       "      <td>0</td>\n",
       "      <td>1</td>\n",
       "      <td>8</td>\n",
       "      <td>0</td>\n",
       "      <td>0</td>\n",
       "      <td>0</td>\n",
       "      <td>1</td>\n",
       "      <td>0</td>\n",
       "      <td>0</td>\n",
       "      <td>0</td>\n",
       "      <td>...</td>\n",
       "      <td>0</td>\n",
       "      <td>0</td>\n",
       "      <td>1</td>\n",
       "      <td>0</td>\n",
       "      <td>0</td>\n",
       "      <td>0</td>\n",
       "      <td>0</td>\n",
       "      <td>0</td>\n",
       "      <td>0</td>\n",
       "      <td>1</td>\n",
       "    </tr>\n",
       "    <tr>\n",
       "      <th>370791</th>\n",
       "      <td>4</td>\n",
       "      <td>0</td>\n",
       "      <td>8</td>\n",
       "      <td>16</td>\n",
       "      <td>0</td>\n",
       "      <td>1</td>\n",
       "      <td>0</td>\n",
       "      <td>0</td>\n",
       "      <td>0</td>\n",
       "      <td>1</td>\n",
       "      <td>...</td>\n",
       "      <td>1</td>\n",
       "      <td>0</td>\n",
       "      <td>1</td>\n",
       "      <td>0</td>\n",
       "      <td>0</td>\n",
       "      <td>0</td>\n",
       "      <td>1</td>\n",
       "      <td>0</td>\n",
       "      <td>0</td>\n",
       "      <td>0</td>\n",
       "    </tr>\n",
       "    <tr>\n",
       "      <th>121991</th>\n",
       "      <td>0</td>\n",
       "      <td>0</td>\n",
       "      <td>5</td>\n",
       "      <td>14</td>\n",
       "      <td>0</td>\n",
       "      <td>1</td>\n",
       "      <td>0</td>\n",
       "      <td>0</td>\n",
       "      <td>0</td>\n",
       "      <td>1</td>\n",
       "      <td>...</td>\n",
       "      <td>0</td>\n",
       "      <td>0</td>\n",
       "      <td>0</td>\n",
       "      <td>0</td>\n",
       "      <td>1</td>\n",
       "      <td>0</td>\n",
       "      <td>1</td>\n",
       "      <td>0</td>\n",
       "      <td>0</td>\n",
       "      <td>0</td>\n",
       "    </tr>\n",
       "  </tbody>\n",
       "</table>\n",
       "<p>5 rows × 26 columns</p>\n",
       "</div>"
      ],
      "text/plain": [
       "        Occupation  Marital_Status  Product_Category_1  Product_Category_2  \\\n",
       "287383          17               0                   1                   2   \n",
       "130087          14               0                   1                  16   \n",
       "104368           0               1                   8                   0   \n",
       "370791           4               0                   8                  16   \n",
       "121991           0               0                   5                  14   \n",
       "\n",
       "        Product_Category_3  Gender_F  Gender_M  Age_0-17  Age_18-25  \\\n",
       "287383                  15         0         1         0          0   \n",
       "130087                   0         0         1         0          0   \n",
       "104368                   0         0         1         0          0   \n",
       "370791                   0         1         0         0          0   \n",
       "121991                   0         1         0         0          0   \n",
       "\n",
       "        Age_26-35        ...         City_Category_C  \\\n",
       "287383          1        ...                       1   \n",
       "130087          1        ...                       0   \n",
       "104368          0        ...                       0   \n",
       "370791          1        ...                       1   \n",
       "121991          1        ...                       0   \n",
       "\n",
       "        Stay_In_Current_City_Years_0  Stay_In_Current_City_Years_1  \\\n",
       "287383                             0                             0   \n",
       "130087                             0                             0   \n",
       "104368                             0                             1   \n",
       "370791                             0                             1   \n",
       "121991                             0                             0   \n",
       "\n",
       "        Stay_In_Current_City_Years_2  Stay_In_Current_City_Years_3  \\\n",
       "287383                             0                             1   \n",
       "130087                             0                             1   \n",
       "104368                             0                             0   \n",
       "370791                             0                             0   \n",
       "121991                             0                             1   \n",
       "\n",
       "        Stay_In_Current_City_Years_4+  Combined_G_M_F_0  Combined_G_M_F_1  \\\n",
       "287383                              0                 0                 0   \n",
       "130087                              0                 0                 0   \n",
       "104368                              0                 0                 0   \n",
       "370791                              0                 1                 0   \n",
       "121991                              0                 1                 0   \n",
       "\n",
       "        Combined_G_M_M_0  Combined_G_M_M_1  \n",
       "287383                 1                 0  \n",
       "130087                 1                 0  \n",
       "104368                 0                 1  \n",
       "370791                 0                 0  \n",
       "121991                 0                 0  \n",
       "\n",
       "[5 rows x 26 columns]"
      ]
     },
     "execution_count": 56,
     "metadata": {},
     "output_type": "execute_result"
    }
   ],
   "source": [
    "X_test[:5]"
   ]
  },
  {
   "cell_type": "code",
   "execution_count": 57,
   "metadata": {},
   "outputs": [
    {
     "data": {
      "text/plain": [
       "287383     8058\n",
       "130087    19297\n",
       "104368     6121\n",
       "370791     8130\n",
       "121991     8676\n",
       "Name: Purchase, dtype: int64"
      ]
     },
     "execution_count": 57,
     "metadata": {},
     "output_type": "execute_result"
    }
   ],
   "source": [
    "y_test[:5]"
   ]
  },
  {
   "cell_type": "code",
   "execution_count": 58,
   "metadata": {},
   "outputs": [
    {
     "data": {
      "text/plain": [
       "array([12880.94478076, 15811.53144954,  6837.95602865,  8066.57716931,\n",
       "        5655.11692795])"
      ]
     },
     "execution_count": 58,
     "metadata": {},
     "output_type": "execute_result"
    }
   ],
   "source": [
    "final_predictions[:5]"
   ]
  },
  {
   "cell_type": "code",
   "execution_count": null,
   "metadata": {},
   "outputs": [],
   "source": []
  }
 ],
 "metadata": {
  "kernelspec": {
   "display_name": "Python 3",
   "language": "python",
   "name": "python3"
  },
  "language_info": {
   "codemirror_mode": {
    "name": "ipython",
    "version": 3
   },
   "file_extension": ".py",
   "mimetype": "text/x-python",
   "name": "python",
   "nbconvert_exporter": "python",
   "pygments_lexer": "ipython3",
   "version": "3.6.5"
  },
  "toc": {
   "base_numbering": 1,
   "nav_menu": {},
   "number_sections": true,
   "sideBar": true,
   "skip_h1_title": false,
   "title_cell": "Table of Contents",
   "title_sidebar": "Contents",
   "toc_cell": false,
   "toc_position": {},
   "toc_section_display": true,
   "toc_window_display": false
  }
 },
 "nbformat": 4,
 "nbformat_minor": 2
}
